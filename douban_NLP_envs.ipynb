{
 "cells": [
  {
   "cell_type": "markdown",
   "metadata": {},
   "source": [
    "### 豆瓣评分的预测\n",
    "\n",
    "在这个项目中，我们要预测一部电影的评分，这个问题实际上就是一个分类问题。给定的输入为一段文本，输出为具体的评分。 在这个项目中，我们需要做：\n",
    "- 文本的预处理，如停用词的过滤，低频词的过滤，特殊符号的过滤等\n",
    "- 文本转化成向量，将使用三种方式，分别为tf-idf, word2vec以及BERT向量。 \n",
    "- 训练逻辑回归和朴素贝叶斯模型，并做交叉验证\n",
    "- 评估模型的准确率\n"
   ]
  },
  {
   "cell_type": "code",
   "execution_count": 1,
   "metadata": {},
   "outputs": [],
   "source": [
    "#导入数据处理的基础包\n",
    "import numpy as np\n",
    "import pandas as pd\n",
    "\n",
    "#导入用于计数的包\n",
    "from collections import Counter\n",
    "\n",
    "#导入tf-idf相关的包\n",
    "from sklearn.feature_extraction.text import TfidfTransformer    \n",
    "from sklearn.feature_extraction.text import CountVectorizer\n",
    "\n",
    "#导入模型评估的包\n",
    "from sklearn import metrics\n",
    "\n",
    "#导入与word2vec相关的包\n",
    "from gensim.models import KeyedVectors\n",
    "\n",
    "#导入与bert embedding相关的包，关于mxnet包下载的注意事项参考实验手册\n",
    "from bert_embedding import BertEmbedding\n",
    "import mxnet\n",
    "\n",
    "#包tqdm是用来对可迭代对象执行时生成一个进度条用以监视程序运行过程\n",
    "from tqdm import tqdm\n",
    "\n",
    "#导入其他一些功能包\n",
    "import requests\n",
    "import os\n"
   ]
  },
  {
   "cell_type": "markdown",
   "metadata": {},
   "source": [
    "### 1. 读取数据并做文本的处理\n",
    "需要完成以下几步操作：\n",
    "- 去掉无用的字符如！&，可自行定义\n",
    "- 中文分词\n",
    "- 去掉低频词"
   ]
  },
  {
   "cell_type": "code",
   "execution_count": 2,
   "metadata": {},
   "outputs": [
    {
     "data": {
      "text/html": [
       "<div>\n",
       "<style scoped>\n",
       "    .dataframe tbody tr th:only-of-type {\n",
       "        vertical-align: middle;\n",
       "    }\n",
       "\n",
       "    .dataframe tbody tr th {\n",
       "        vertical-align: top;\n",
       "    }\n",
       "\n",
       "    .dataframe thead th {\n",
       "        text-align: right;\n",
       "    }\n",
       "</style>\n",
       "<table border=\"1\" class=\"dataframe\">\n",
       "  <thead>\n",
       "    <tr style=\"text-align: right;\">\n",
       "      <th></th>\n",
       "      <th>ID</th>\n",
       "      <th>Movie_Name_EN</th>\n",
       "      <th>Movie_Name_CN</th>\n",
       "      <th>Crawl_Date</th>\n",
       "      <th>Number</th>\n",
       "      <th>Username</th>\n",
       "      <th>Date</th>\n",
       "      <th>Star</th>\n",
       "      <th>Comment</th>\n",
       "      <th>Like</th>\n",
       "    </tr>\n",
       "  </thead>\n",
       "  <tbody>\n",
       "    <tr>\n",
       "      <th>0</th>\n",
       "      <td>0</td>\n",
       "      <td>Avengers Age of Ultron</td>\n",
       "      <td>复仇者联盟2</td>\n",
       "      <td>2017-01-22</td>\n",
       "      <td>1</td>\n",
       "      <td>然潘</td>\n",
       "      <td>2015-05-13</td>\n",
       "      <td>3</td>\n",
       "      <td>连奥创都知道整容要去韩国。</td>\n",
       "      <td>2404</td>\n",
       "    </tr>\n",
       "    <tr>\n",
       "      <th>1</th>\n",
       "      <td>10</td>\n",
       "      <td>Avengers Age of Ultron</td>\n",
       "      <td>复仇者联盟2</td>\n",
       "      <td>2017-01-22</td>\n",
       "      <td>11</td>\n",
       "      <td>影志</td>\n",
       "      <td>2015-04-30</td>\n",
       "      <td>4</td>\n",
       "      <td>“一个没有黑暗面的人不值得信任。” 第二部剥去冗长的铺垫，开场即高潮、一直到结束，会有人觉...</td>\n",
       "      <td>381</td>\n",
       "    </tr>\n",
       "    <tr>\n",
       "      <th>2</th>\n",
       "      <td>20</td>\n",
       "      <td>Avengers Age of Ultron</td>\n",
       "      <td>复仇者联盟2</td>\n",
       "      <td>2017-01-22</td>\n",
       "      <td>21</td>\n",
       "      <td>随时流感</td>\n",
       "      <td>2015-04-28</td>\n",
       "      <td>2</td>\n",
       "      <td>奥创弱爆了弱爆了弱爆了啊！！！！！！</td>\n",
       "      <td>120</td>\n",
       "    </tr>\n",
       "    <tr>\n",
       "      <th>3</th>\n",
       "      <td>30</td>\n",
       "      <td>Avengers Age of Ultron</td>\n",
       "      <td>复仇者联盟2</td>\n",
       "      <td>2017-01-22</td>\n",
       "      <td>31</td>\n",
       "      <td>乌鸦火堂</td>\n",
       "      <td>2015-05-08</td>\n",
       "      <td>4</td>\n",
       "      <td>与第一集不同，承上启下，阴郁严肃，但也不会不好看啊，除非本来就不喜欢漫威电影。场面更加宏大...</td>\n",
       "      <td>30</td>\n",
       "    </tr>\n",
       "    <tr>\n",
       "      <th>4</th>\n",
       "      <td>40</td>\n",
       "      <td>Avengers Age of Ultron</td>\n",
       "      <td>复仇者联盟2</td>\n",
       "      <td>2017-01-22</td>\n",
       "      <td>41</td>\n",
       "      <td>办公室甜心</td>\n",
       "      <td>2015-05-10</td>\n",
       "      <td>5</td>\n",
       "      <td>看毕，我激动地对友人说，等等奥创要来毁灭台北怎么办厚，她拍了拍我肩膀，没事，反正你买了两份...</td>\n",
       "      <td>16</td>\n",
       "    </tr>\n",
       "  </tbody>\n",
       "</table>\n",
       "</div>"
      ],
      "text/plain": [
       "   ID           Movie_Name_EN Movie_Name_CN  Crawl_Date  Number Username  \\\n",
       "0   0  Avengers Age of Ultron        复仇者联盟2  2017-01-22       1       然潘   \n",
       "1  10  Avengers Age of Ultron        复仇者联盟2  2017-01-22      11       影志   \n",
       "2  20  Avengers Age of Ultron        复仇者联盟2  2017-01-22      21     随时流感   \n",
       "3  30  Avengers Age of Ultron        复仇者联盟2  2017-01-22      31     乌鸦火堂   \n",
       "4  40  Avengers Age of Ultron        复仇者联盟2  2017-01-22      41    办公室甜心   \n",
       "\n",
       "         Date  Star                                            Comment  Like  \n",
       "0  2015-05-13     3                                      连奥创都知道整容要去韩国。  2404  \n",
       "1  2015-04-30     4   “一个没有黑暗面的人不值得信任。” 第二部剥去冗长的铺垫，开场即高潮、一直到结束，会有人觉...   381  \n",
       "2  2015-04-28     2                                 奥创弱爆了弱爆了弱爆了啊！！！！！！   120  \n",
       "3  2015-05-08     4   与第一集不同，承上启下，阴郁严肃，但也不会不好看啊，除非本来就不喜欢漫威电影。场面更加宏大...    30  \n",
       "4  2015-05-10     5   看毕，我激动地对友人说，等等奥创要来毁灭台北怎么办厚，她拍了拍我肩膀，没事，反正你买了两份...    16  "
      ]
     },
     "execution_count": 2,
     "metadata": {},
     "output_type": "execute_result"
    }
   ],
   "source": [
    "#读取数据\n",
    "data = pd.read_csv('data/DMSC.csv')\n",
    "#观察数据格式\n",
    "data.head()"
   ]
  },
  {
   "cell_type": "code",
   "execution_count": 3,
   "metadata": {},
   "outputs": [
    {
     "data": {
      "text/html": [
       "<div>\n",
       "<style scoped>\n",
       "    .dataframe tbody tr th:only-of-type {\n",
       "        vertical-align: middle;\n",
       "    }\n",
       "\n",
       "    .dataframe tbody tr th {\n",
       "        vertical-align: top;\n",
       "    }\n",
       "\n",
       "    .dataframe thead th {\n",
       "        text-align: right;\n",
       "    }\n",
       "</style>\n",
       "<table border=\"1\" class=\"dataframe\">\n",
       "  <thead>\n",
       "    <tr style=\"text-align: right;\">\n",
       "      <th></th>\n",
       "      <th>Comment</th>\n",
       "      <th>Star</th>\n",
       "    </tr>\n",
       "  </thead>\n",
       "  <tbody>\n",
       "    <tr>\n",
       "      <th>0</th>\n",
       "      <td>连奥创都知道整容要去韩国。</td>\n",
       "      <td>3</td>\n",
       "    </tr>\n",
       "    <tr>\n",
       "      <th>1</th>\n",
       "      <td>“一个没有黑暗面的人不值得信任。” 第二部剥去冗长的铺垫，开场即高潮、一直到结束，会有人觉...</td>\n",
       "      <td>4</td>\n",
       "    </tr>\n",
       "    <tr>\n",
       "      <th>2</th>\n",
       "      <td>奥创弱爆了弱爆了弱爆了啊！！！！！！</td>\n",
       "      <td>2</td>\n",
       "    </tr>\n",
       "    <tr>\n",
       "      <th>3</th>\n",
       "      <td>与第一集不同，承上启下，阴郁严肃，但也不会不好看啊，除非本来就不喜欢漫威电影。场面更加宏大...</td>\n",
       "      <td>4</td>\n",
       "    </tr>\n",
       "    <tr>\n",
       "      <th>4</th>\n",
       "      <td>看毕，我激动地对友人说，等等奥创要来毁灭台北怎么办厚，她拍了拍我肩膀，没事，反正你买了两份...</td>\n",
       "      <td>5</td>\n",
       "    </tr>\n",
       "  </tbody>\n",
       "</table>\n",
       "</div>"
      ],
      "text/plain": [
       "                                             Comment  Star\n",
       "0                                      连奥创都知道整容要去韩国。     3\n",
       "1   “一个没有黑暗面的人不值得信任。” 第二部剥去冗长的铺垫，开场即高潮、一直到结束，会有人觉...     4\n",
       "2                                 奥创弱爆了弱爆了弱爆了啊！！！！！！     2\n",
       "3   与第一集不同，承上启下，阴郁严肃，但也不会不好看啊，除非本来就不喜欢漫威电影。场面更加宏大...     4\n",
       "4   看毕，我激动地对友人说，等等奥创要来毁灭台北怎么办厚，她拍了拍我肩膀，没事，反正你买了两份...     5"
      ]
     },
     "execution_count": 3,
     "metadata": {},
     "output_type": "execute_result"
    }
   ],
   "source": [
    "#只保留数据中我们需要的两列：Comment列和Star列\n",
    "data = data[['Comment','Star']]\n",
    "#观察新的数据的格式\n",
    "data.head()"
   ]
  },
  {
   "cell_type": "code",
   "execution_count": 4,
   "metadata": {},
   "outputs": [
    {
     "data": {
      "text/html": [
       "<div>\n",
       "<style scoped>\n",
       "    .dataframe tbody tr th:only-of-type {\n",
       "        vertical-align: middle;\n",
       "    }\n",
       "\n",
       "    .dataframe tbody tr th {\n",
       "        vertical-align: top;\n",
       "    }\n",
       "\n",
       "    .dataframe thead th {\n",
       "        text-align: right;\n",
       "    }\n",
       "</style>\n",
       "<table border=\"1\" class=\"dataframe\">\n",
       "  <thead>\n",
       "    <tr style=\"text-align: right;\">\n",
       "      <th></th>\n",
       "      <th>Comment</th>\n",
       "      <th>Star</th>\n",
       "    </tr>\n",
       "  </thead>\n",
       "  <tbody>\n",
       "    <tr>\n",
       "      <th>0</th>\n",
       "      <td>连奥创都知道整容要去韩国。</td>\n",
       "      <td>1</td>\n",
       "    </tr>\n",
       "    <tr>\n",
       "      <th>1</th>\n",
       "      <td>“一个没有黑暗面的人不值得信任。” 第二部剥去冗长的铺垫，开场即高潮、一直到结束，会有人觉...</td>\n",
       "      <td>1</td>\n",
       "    </tr>\n",
       "    <tr>\n",
       "      <th>2</th>\n",
       "      <td>奥创弱爆了弱爆了弱爆了啊！！！！！！</td>\n",
       "      <td>0</td>\n",
       "    </tr>\n",
       "    <tr>\n",
       "      <th>3</th>\n",
       "      <td>与第一集不同，承上启下，阴郁严肃，但也不会不好看啊，除非本来就不喜欢漫威电影。场面更加宏大...</td>\n",
       "      <td>1</td>\n",
       "    </tr>\n",
       "    <tr>\n",
       "      <th>4</th>\n",
       "      <td>看毕，我激动地对友人说，等等奥创要来毁灭台北怎么办厚，她拍了拍我肩膀，没事，反正你买了两份...</td>\n",
       "      <td>1</td>\n",
       "    </tr>\n",
       "  </tbody>\n",
       "</table>\n",
       "</div>"
      ],
      "text/plain": [
       "                                             Comment  Star\n",
       "0                                      连奥创都知道整容要去韩国。     1\n",
       "1   “一个没有黑暗面的人不值得信任。” 第二部剥去冗长的铺垫，开场即高潮、一直到结束，会有人觉...     1\n",
       "2                                 奥创弱爆了弱爆了弱爆了啊！！！！！！     0\n",
       "3   与第一集不同，承上启下，阴郁严肃，但也不会不好看啊，除非本来就不喜欢漫威电影。场面更加宏大...     1\n",
       "4   看毕，我激动地对友人说，等等奥创要来毁灭台北怎么办厚，她拍了拍我肩膀，没事，反正你买了两份...     1"
      ]
     },
     "execution_count": 4,
     "metadata": {},
     "output_type": "execute_result"
    }
   ],
   "source": [
    "# 这里的star代表具体的评分。但在这个项目中，我们要预测的是正面还是负面。我们把评分为1和2的看作是负面，把评分为3，4，5的作为正面\n",
    "data['Star']=(data.Star/3).astype(int)\n",
    "data.head()"
   ]
  },
  {
   "cell_type": "markdown",
   "metadata": {},
   "source": [
    "#### 任务1： 去掉一些无用的字符"
   ]
  },
  {
   "cell_type": "code",
   "execution_count": 5,
   "metadata": {},
   "outputs": [
    {
     "name": "stderr",
     "output_type": "stream",
     "text": [
      "douban: 100%|██████████████████████████████████████████████████████████████| 212506/212506 [00:00<00:00, 562982.34it/s]\n"
     ]
    }
   ],
   "source": [
    "tqdm.pandas(desc='douban') #查看处理进度\n",
    "data['Comment']=data['Comment'].progress_apply(lambda x:x.replace('，','').replace('。',''))"
   ]
  },
  {
   "cell_type": "code",
   "execution_count": 6,
   "metadata": {
    "scrolled": true
   },
   "outputs": [
    {
     "data": {
      "text/html": [
       "<div>\n",
       "<style scoped>\n",
       "    .dataframe tbody tr th:only-of-type {\n",
       "        vertical-align: middle;\n",
       "    }\n",
       "\n",
       "    .dataframe tbody tr th {\n",
       "        vertical-align: top;\n",
       "    }\n",
       "\n",
       "    .dataframe thead th {\n",
       "        text-align: right;\n",
       "    }\n",
       "</style>\n",
       "<table border=\"1\" class=\"dataframe\">\n",
       "  <thead>\n",
       "    <tr style=\"text-align: right;\">\n",
       "      <th></th>\n",
       "      <th>Comment</th>\n",
       "      <th>Star</th>\n",
       "    </tr>\n",
       "  </thead>\n",
       "  <tbody>\n",
       "    <tr>\n",
       "      <th>0</th>\n",
       "      <td>连奥创都知道整容要去韩国</td>\n",
       "      <td>1</td>\n",
       "    </tr>\n",
       "    <tr>\n",
       "      <th>1</th>\n",
       "      <td>“一个没有黑暗面的人不值得信任” 第二部剥去冗长的铺垫开场即高潮、一直到结束会有人觉得只剩...</td>\n",
       "      <td>1</td>\n",
       "    </tr>\n",
       "    <tr>\n",
       "      <th>2</th>\n",
       "      <td>奥创弱爆了弱爆了弱爆了啊！！！！！！</td>\n",
       "      <td>0</td>\n",
       "    </tr>\n",
       "    <tr>\n",
       "      <th>3</th>\n",
       "      <td>与第一集不同承上启下阴郁严肃但也不会不好看啊除非本来就不喜欢漫威电影场面更加宏大单打与团战...</td>\n",
       "      <td>1</td>\n",
       "    </tr>\n",
       "    <tr>\n",
       "      <th>4</th>\n",
       "      <td>看毕我激动地对友人说等等奥创要来毁灭台北怎么办厚她拍了拍我肩膀没事反正你买了两份旅行保险惹...</td>\n",
       "      <td>1</td>\n",
       "    </tr>\n",
       "  </tbody>\n",
       "</table>\n",
       "</div>"
      ],
      "text/plain": [
       "                                             Comment  Star\n",
       "0                                       连奥创都知道整容要去韩国     1\n",
       "1   “一个没有黑暗面的人不值得信任” 第二部剥去冗长的铺垫开场即高潮、一直到结束会有人觉得只剩...     1\n",
       "2                                 奥创弱爆了弱爆了弱爆了啊！！！！！！     0\n",
       "3   与第一集不同承上启下阴郁严肃但也不会不好看啊除非本来就不喜欢漫威电影场面更加宏大单打与团战...     1\n",
       "4   看毕我激动地对友人说等等奥创要来毁灭台北怎么办厚她拍了拍我肩膀没事反正你买了两份旅行保险惹...     1"
      ]
     },
     "execution_count": 6,
     "metadata": {},
     "output_type": "execute_result"
    }
   ],
   "source": [
    "# 观察新的数据的格式\n",
    "data.head()"
   ]
  },
  {
   "cell_type": "markdown",
   "metadata": {},
   "source": [
    "#### 任务2：使用结巴分词对文本做分词"
   ]
  },
  {
   "cell_type": "code",
   "execution_count": 7,
   "metadata": {},
   "outputs": [
    {
     "name": "stderr",
     "output_type": "stream",
     "text": [
      "apply:   0%|                                                                                | 0/212506 [00:00<?, ?it/s]Building prefix dict from the default dictionary ...\n",
      "Dumping model to file cache C:\\Users\\chxue\\AppData\\Local\\Temp\\jieba.cache\n",
      "Loading model cost 0.858 seconds.\n",
      "Prefix dict has been built successfully.\n",
      "apply: 100%|█████████████████████████████████████████████████████████████████| 212506/212506 [00:53<00:00, 3994.68it/s]\n"
     ]
    }
   ],
   "source": [
    "import jieba\n",
    "def comment_cut(content):\n",
    "    return list(jieba.cut(content.strip()))\n",
    "\n",
    "# 输出进度条\n",
    "tqdm.pandas(desc='apply')\n",
    "data['comment_processed'] = data['Comment'].progress_apply(comment_cut)"
   ]
  },
  {
   "cell_type": "code",
   "execution_count": 10,
   "metadata": {
    "scrolled": true
   },
   "outputs": [
    {
     "data": {
      "text/html": [
       "<div>\n",
       "<style scoped>\n",
       "    .dataframe tbody tr th:only-of-type {\n",
       "        vertical-align: middle;\n",
       "    }\n",
       "\n",
       "    .dataframe tbody tr th {\n",
       "        vertical-align: top;\n",
       "    }\n",
       "\n",
       "    .dataframe thead th {\n",
       "        text-align: right;\n",
       "    }\n",
       "</style>\n",
       "<table border=\"1\" class=\"dataframe\">\n",
       "  <thead>\n",
       "    <tr style=\"text-align: right;\">\n",
       "      <th></th>\n",
       "      <th>Comment</th>\n",
       "      <th>Star</th>\n",
       "      <th>comment_processed</th>\n",
       "    </tr>\n",
       "  </thead>\n",
       "  <tbody>\n",
       "    <tr>\n",
       "      <th>0</th>\n",
       "      <td>连奥创都知道整容要去韩国</td>\n",
       "      <td>1</td>\n",
       "      <td>[连, 奥创, 都, 知道, 整容, 要, 去, 韩国]</td>\n",
       "    </tr>\n",
       "    <tr>\n",
       "      <th>1</th>\n",
       "      <td>“一个没有黑暗面的人不值得信任” 第二部剥去冗长的铺垫开场即高潮、一直到结束会有人觉得只剩...</td>\n",
       "      <td>1</td>\n",
       "      <td>[“, 一个, 没有, 黑暗面, 的, 人, 不, 值得, 信任, ”,  , 第二部, 剥...</td>\n",
       "    </tr>\n",
       "    <tr>\n",
       "      <th>2</th>\n",
       "      <td>奥创弱爆了弱爆了弱爆了啊！！！！！！</td>\n",
       "      <td>0</td>\n",
       "      <td>[奥创, 弱, 爆, 了, 弱, 爆, 了, 弱, 爆, 了, 啊, ！, ！, ！, ！,...</td>\n",
       "    </tr>\n",
       "    <tr>\n",
       "      <th>3</th>\n",
       "      <td>与第一集不同承上启下阴郁严肃但也不会不好看啊除非本来就不喜欢漫威电影场面更加宏大单打与团战...</td>\n",
       "      <td>1</td>\n",
       "      <td>[与, 第一集, 不同, 承上启下, 阴郁, 严肃, 但, 也, 不会, 不, 好看, 啊,...</td>\n",
       "    </tr>\n",
       "    <tr>\n",
       "      <th>4</th>\n",
       "      <td>看毕我激动地对友人说等等奥创要来毁灭台北怎么办厚她拍了拍我肩膀没事反正你买了两份旅行保险惹...</td>\n",
       "      <td>1</td>\n",
       "      <td>[看毕, 我, 激动, 地, 对, 友人, 说, 等等, 奥创, 要, 来, 毁灭, 台北,...</td>\n",
       "    </tr>\n",
       "  </tbody>\n",
       "</table>\n",
       "</div>"
      ],
      "text/plain": [
       "                                             Comment  Star  \\\n",
       "0                                       连奥创都知道整容要去韩国     1   \n",
       "1   “一个没有黑暗面的人不值得信任” 第二部剥去冗长的铺垫开场即高潮、一直到结束会有人觉得只剩...     1   \n",
       "2                                 奥创弱爆了弱爆了弱爆了啊！！！！！！     0   \n",
       "3   与第一集不同承上启下阴郁严肃但也不会不好看啊除非本来就不喜欢漫威电影场面更加宏大单打与团战...     1   \n",
       "4   看毕我激动地对友人说等等奥创要来毁灭台北怎么办厚她拍了拍我肩膀没事反正你买了两份旅行保险惹...     1   \n",
       "\n",
       "                                   comment_processed  \n",
       "0                       [连, 奥创, 都, 知道, 整容, 要, 去, 韩国]  \n",
       "1  [“, 一个, 没有, 黑暗面, 的, 人, 不, 值得, 信任, ”,  , 第二部, 剥...  \n",
       "2  [奥创, 弱, 爆, 了, 弱, 爆, 了, 弱, 爆, 了, 啊, ！, ！, ！, ！,...  \n",
       "3  [与, 第一集, 不同, 承上启下, 阴郁, 严肃, 但, 也, 不会, 不, 好看, 啊,...  \n",
       "4  [看毕, 我, 激动, 地, 对, 友人, 说, 等等, 奥创, 要, 来, 毁灭, 台北,...  "
      ]
     },
     "execution_count": 10,
     "metadata": {},
     "output_type": "execute_result"
    }
   ],
   "source": [
    "data.head()"
   ]
  },
  {
   "cell_type": "markdown",
   "metadata": {},
   "source": [
    "#### 任务3：设定停用词并去掉停用词"
   ]
  },
  {
   "cell_type": "code",
   "execution_count": 12,
   "metadata": {},
   "outputs": [
    {
     "name": "stderr",
     "output_type": "stream",
     "text": [
      "apply: 100%|█████| 212506/212506 [00:35<00:00, 5936.44it/s]\n"
     ]
    }
   ],
   "source": [
    "# 读取下载的停用词表，并保存在列表中\n",
    "with open(\"data/stopWord.json\",\"r\",encoding='utf-8') as f:\n",
    "    stopWords = f.read().split(\"\\n\")\n",
    "\n",
    "# 去除停用词\n",
    "def rm_stop_word(wordList):\n",
    "    return [word for word in wordList if word not in stopWords]\n",
    "\n",
    "#这行代码中.progress_apply()函数的作用等同于.apply()函数的作用，只是写成.progress_apply()函数才能被tqdm包监控从而输出进度条。\n",
    "data['comment_processed'] = data['comment_processed'].progress_apply(rm_stop_word)"
   ]
  },
  {
   "cell_type": "code",
   "execution_count": 15,
   "metadata": {
    "scrolled": true
   },
   "outputs": [
    {
     "data": {
      "text/html": [
       "<div>\n",
       "<style scoped>\n",
       "    .dataframe tbody tr th:only-of-type {\n",
       "        vertical-align: middle;\n",
       "    }\n",
       "\n",
       "    .dataframe tbody tr th {\n",
       "        vertical-align: top;\n",
       "    }\n",
       "\n",
       "    .dataframe thead th {\n",
       "        text-align: right;\n",
       "    }\n",
       "</style>\n",
       "<table border=\"1\" class=\"dataframe\">\n",
       "  <thead>\n",
       "    <tr style=\"text-align: right;\">\n",
       "      <th></th>\n",
       "      <th>Comment</th>\n",
       "      <th>Star</th>\n",
       "      <th>comment_processed</th>\n",
       "    </tr>\n",
       "  </thead>\n",
       "  <tbody>\n",
       "    <tr>\n",
       "      <th>0</th>\n",
       "      <td>连奥创都知道整容要去韩国</td>\n",
       "      <td>1</td>\n",
       "      <td>[奥创, 知道, 整容, 韩国]</td>\n",
       "    </tr>\n",
       "    <tr>\n",
       "      <th>1</th>\n",
       "      <td>“一个没有黑暗面的人不值得信任” 第二部剥去冗长的铺垫开场即高潮、一直到结束会有人觉得只剩...</td>\n",
       "      <td>1</td>\n",
       "      <td>[一个, 没有, 黑暗面, 值得, 信任,  , 第二部, 剥去, 冗长, 铺垫, 开场, ...</td>\n",
       "    </tr>\n",
       "    <tr>\n",
       "      <th>2</th>\n",
       "      <td>奥创弱爆了弱爆了弱爆了啊！！！！！！</td>\n",
       "      <td>0</td>\n",
       "      <td>[奥创, 弱, 爆, 弱, 爆, 弱, 爆]</td>\n",
       "    </tr>\n",
       "    <tr>\n",
       "      <th>3</th>\n",
       "      <td>与第一集不同承上启下阴郁严肃但也不会不好看啊除非本来就不喜欢漫威电影场面更加宏大单打与团战...</td>\n",
       "      <td>1</td>\n",
       "      <td>[第一集, 不同, 承上启下, 阴郁, 严肃, 不会, 好看, 本来, 喜欢, 漫威, 电影...</td>\n",
       "    </tr>\n",
       "    <tr>\n",
       "      <th>4</th>\n",
       "      <td>看毕我激动地对友人说等等奥创要来毁灭台北怎么办厚她拍了拍我肩膀没事反正你买了两份旅行保险惹...</td>\n",
       "      <td>1</td>\n",
       "      <td>[看毕, 激动, 友人, 说, 奥创, 毁灭, 台北, 厚, 拍了拍, 肩膀, 没事, 反正...</td>\n",
       "    </tr>\n",
       "  </tbody>\n",
       "</table>\n",
       "</div>"
      ],
      "text/plain": [
       "                                             Comment  Star  \\\n",
       "0                                       连奥创都知道整容要去韩国     1   \n",
       "1   “一个没有黑暗面的人不值得信任” 第二部剥去冗长的铺垫开场即高潮、一直到结束会有人觉得只剩...     1   \n",
       "2                                 奥创弱爆了弱爆了弱爆了啊！！！！！！     0   \n",
       "3   与第一集不同承上启下阴郁严肃但也不会不好看啊除非本来就不喜欢漫威电影场面更加宏大单打与团战...     1   \n",
       "4   看毕我激动地对友人说等等奥创要来毁灭台北怎么办厚她拍了拍我肩膀没事反正你买了两份旅行保险惹...     1   \n",
       "\n",
       "                                   comment_processed  \n",
       "0                                   [奥创, 知道, 整容, 韩国]  \n",
       "1  [一个, 没有, 黑暗面, 值得, 信任,  , 第二部, 剥去, 冗长, 铺垫, 开场, ...  \n",
       "2                             [奥创, 弱, 爆, 弱, 爆, 弱, 爆]  \n",
       "3  [第一集, 不同, 承上启下, 阴郁, 严肃, 不会, 好看, 本来, 喜欢, 漫威, 电影...  \n",
       "4  [看毕, 激动, 友人, 说, 奥创, 毁灭, 台北, 厚, 拍了拍, 肩膀, 没事, 反正...  "
      ]
     },
     "execution_count": 15,
     "metadata": {},
     "output_type": "execute_result"
    }
   ],
   "source": [
    "data.head()"
   ]
  },
  {
   "cell_type": "markdown",
   "metadata": {},
   "source": [
    "#### 任务4：去掉低频词，出现次数少于10次的词去掉"
   ]
  },
  {
   "cell_type": "code",
   "execution_count": 17,
   "metadata": {},
   "outputs": [
    {
     "name": "stdout",
     "output_type": "stream",
     "text": [
      "106235\n"
     ]
    }
   ],
   "source": [
    "#确实得建立大词典来统计所有词词频\n",
    "word_dic={}\n",
    "for comment in data['comment_processed']:\n",
    "    for word in comment:\n",
    "        if word in word_dic:\n",
    "            word_dic[word]+=1\n",
    "        else:\n",
    "            word_dic[word]=1\n",
    "print(len(word_dic))"
   ]
  },
  {
   "cell_type": "code",
   "execution_count": 19,
   "metadata": {},
   "outputs": [
    {
     "name": "stdout",
     "output_type": "stream",
     "text": [
      "[('奥创', 302), ('知道', 6022), ('整容', 79), ('韩国', 1633), ('一个', 13852), ('没有', 18448), ('黑暗面', 31), ('值得', 3056), ('信任', 223), (' ', 98052)]\n"
     ]
    }
   ],
   "source": [
    "print(list(word_dic.items())[:10])"
   ]
  },
  {
   "cell_type": "code",
   "execution_count": 20,
   "metadata": {},
   "outputs": [
    {
     "name": "stderr",
     "output_type": "stream",
     "text": [
      "apply: 100%|███| 212506/212506 [00:00<00:00, 269018.58it/s]\n"
     ]
    }
   ],
   "source": [
    "def rm_low_freq_word(wordList):\n",
    "    return [w for w in wordList if word_dic[w]>=10]\n",
    "\n",
    "data['comment_processed'] = data['comment_processed'].progress_apply(rm_low_freq_word)"
   ]
  },
  {
   "cell_type": "code",
   "execution_count": 21,
   "metadata": {},
   "outputs": [
    {
     "data": {
      "text/html": [
       "<div>\n",
       "<style scoped>\n",
       "    .dataframe tbody tr th:only-of-type {\n",
       "        vertical-align: middle;\n",
       "    }\n",
       "\n",
       "    .dataframe tbody tr th {\n",
       "        vertical-align: top;\n",
       "    }\n",
       "\n",
       "    .dataframe thead th {\n",
       "        text-align: right;\n",
       "    }\n",
       "</style>\n",
       "<table border=\"1\" class=\"dataframe\">\n",
       "  <thead>\n",
       "    <tr style=\"text-align: right;\">\n",
       "      <th></th>\n",
       "      <th>Comment</th>\n",
       "      <th>Star</th>\n",
       "      <th>comment_processed</th>\n",
       "    </tr>\n",
       "  </thead>\n",
       "  <tbody>\n",
       "    <tr>\n",
       "      <th>0</th>\n",
       "      <td>连奥创都知道整容要去韩国</td>\n",
       "      <td>1</td>\n",
       "      <td>[奥创, 知道, 整容, 韩国]</td>\n",
       "    </tr>\n",
       "    <tr>\n",
       "      <th>1</th>\n",
       "      <td>“一个没有黑暗面的人不值得信任” 第二部剥去冗长的铺垫开场即高潮、一直到结束会有人觉得只剩...</td>\n",
       "      <td>1</td>\n",
       "      <td>[一个, 没有, 黑暗面, 值得, 信任,  , 第二部, 冗长, 铺垫, 开场, 高潮, ...</td>\n",
       "    </tr>\n",
       "    <tr>\n",
       "      <th>2</th>\n",
       "      <td>奥创弱爆了弱爆了弱爆了啊！！！！！！</td>\n",
       "      <td>0</td>\n",
       "      <td>[奥创, 弱, 爆, 弱, 爆, 弱, 爆]</td>\n",
       "    </tr>\n",
       "    <tr>\n",
       "      <th>3</th>\n",
       "      <td>与第一集不同承上启下阴郁严肃但也不会不好看啊除非本来就不喜欢漫威电影场面更加宏大单打与团战...</td>\n",
       "      <td>1</td>\n",
       "      <td>[第一集, 不同, 承上启下, 阴郁, 严肃, 不会, 好看, 本来, 喜欢, 漫威, 电影...</td>\n",
       "    </tr>\n",
       "    <tr>\n",
       "      <th>4</th>\n",
       "      <td>看毕我激动地对友人说等等奥创要来毁灭台北怎么办厚她拍了拍我肩膀没事反正你买了两份旅行保险惹...</td>\n",
       "      <td>1</td>\n",
       "      <td>[激动, 友人, 说, 奥创, 毁灭, 台北, 厚, 肩膀, 没事, 反正, 买, 两份, ...</td>\n",
       "    </tr>\n",
       "  </tbody>\n",
       "</table>\n",
       "</div>"
      ],
      "text/plain": [
       "                                             Comment  Star  \\\n",
       "0                                       连奥创都知道整容要去韩国     1   \n",
       "1   “一个没有黑暗面的人不值得信任” 第二部剥去冗长的铺垫开场即高潮、一直到结束会有人觉得只剩...     1   \n",
       "2                                 奥创弱爆了弱爆了弱爆了啊！！！！！！     0   \n",
       "3   与第一集不同承上启下阴郁严肃但也不会不好看啊除非本来就不喜欢漫威电影场面更加宏大单打与团战...     1   \n",
       "4   看毕我激动地对友人说等等奥创要来毁灭台北怎么办厚她拍了拍我肩膀没事反正你买了两份旅行保险惹...     1   \n",
       "\n",
       "                                   comment_processed  \n",
       "0                                   [奥创, 知道, 整容, 韩国]  \n",
       "1  [一个, 没有, 黑暗面, 值得, 信任,  , 第二部, 冗长, 铺垫, 开场, 高潮, ...  \n",
       "2                             [奥创, 弱, 爆, 弱, 爆, 弱, 爆]  \n",
       "3  [第一集, 不同, 承上启下, 阴郁, 严肃, 不会, 好看, 本来, 喜欢, 漫威, 电影...  \n",
       "4  [激动, 友人, 说, 奥创, 毁灭, 台北, 厚, 肩膀, 没事, 反正, 买, 两份, ...  "
      ]
     },
     "execution_count": 21,
     "metadata": {},
     "output_type": "execute_result"
    }
   ],
   "source": [
    "data.head()"
   ]
  },
  {
   "cell_type": "markdown",
   "metadata": {},
   "source": [
    "### 2. 把文本分为训练集和测试集\n",
    "选择语料库中的20%作为测试数据，剩下的作为训练数据"
   ]
  },
  {
   "cell_type": "code",
   "execution_count": 23,
   "metadata": {},
   "outputs": [],
   "source": [
    "from sklearn.model_selection import train_test_split\n",
    "train, test = train_test_split(data, test_size = 0.2)\n",
    "x_train = train['comment_processed']\n",
    "x_test = test['comment_processed']\n",
    "y_train = train['Star']\n",
    "y_test = test['Star']"
   ]
  },
  {
   "cell_type": "markdown",
   "metadata": {},
   "source": [
    "### 3. 把文本转换成向量的形式\n",
    "\n",
    "在这个部分我们会采用三种不同的方式:\n",
    "- 使用tf-idf向量\n",
    "- 使用word2vec\n",
    "- 使用bert向量\n",
    "\n",
    "转换成向量之后，我们接着做模型的训练"
   ]
  },
  {
   "cell_type": "markdown",
   "metadata": {},
   "source": [
    "#### 任务6：把文本转换成tf-idf向量"
   ]
  },
  {
   "cell_type": "code",
   "execution_count": 24,
   "metadata": {},
   "outputs": [],
   "source": [
    "comments_train_concat = x_train.apply(lambda x:' '.join(x))\n",
    "comments_test_concat = x_test.apply(lambda x:' '.join(x))"
   ]
  },
  {
   "cell_type": "code",
   "execution_count": 27,
   "metadata": {},
   "outputs": [
    {
     "data": {
      "text/plain": [
       "188015    [不停, 穿越, 不停, 转换,  , 确实, 冲击,  , 跟随, 剧情,  , 完整, ...\n",
       "193033                                                 [星半]\n",
       "163310    [ , 其实,  , 没有, 纸醉金迷, ......, 林萧, 有点, 失望, .......]\n",
       "101549                       [演员, 喜欢, 没, 演技, 撑, 不起, 一部, 电影]\n",
       "43776                                               [太, 难看]\n",
       "Name: comment_processed, dtype: object"
      ]
     },
     "execution_count": 27,
     "metadata": {},
     "output_type": "execute_result"
    }
   ],
   "source": [
    "x_train.head()"
   ]
  },
  {
   "cell_type": "code",
   "execution_count": 26,
   "metadata": {
    "scrolled": true
   },
   "outputs": [
    {
     "data": {
      "text/plain": [
       "188015    不停 穿越 不停 转换   确实 冲击   跟随 剧情   完整 紧凑 没 说   恍惚 ~ ~\n",
       "193033                                                  星半\n",
       "163310                其实   没有 纸醉金迷 ...... 林萧 有点 失望 .......\n",
       "101549                               演员 喜欢 没 演技 撑 不起 一部 电影\n",
       "43776                                                 太 难看\n",
       "Name: comment_processed, dtype: object"
      ]
     },
     "execution_count": 26,
     "metadata": {},
     "output_type": "execute_result"
    }
   ],
   "source": [
    "comments_train_concat.head()"
   ]
  },
  {
   "cell_type": "code",
   "execution_count": 28,
   "metadata": {},
   "outputs": [
    {
     "name": "stdout",
     "output_type": "stream",
     "text": [
      "(170004, 14880) (42502, 14880)\n"
     ]
    }
   ],
   "source": [
    "vectorizer = CountVectorizer()  #便于稀疏矩阵存储更有效率\n",
    "trans = TfidfTransformer()  #根据“词 词 词”生成句向量\n",
    "\n",
    "word_count_train = vectorizer.fit_transform(comments_train_concat) #fit表示既训练又转化\n",
    "tfidf_train = trans.fit_transform(word_count_train)\n",
    "\n",
    "word_count_test = vectorizer.transform(comments_test_concat) #fit表示既训练又转化\n",
    "tfidf_test = trans.transform(word_count_test)\n",
    "\n",
    "print(tfidf_train.shape, tfidf_test.shape)"
   ]
  },
  {
   "cell_type": "code",
   "execution_count": 29,
   "metadata": {
    "scrolled": true
   },
   "outputs": [
    {
     "data": {
      "text/plain": [
       "<170004x14880 sparse matrix of type '<class 'numpy.float64'>'\n",
       "\twith 1468830 stored elements in Compressed Sparse Row format>"
      ]
     },
     "execution_count": 29,
     "metadata": {},
     "output_type": "execute_result"
    }
   ],
   "source": [
    "tfidf_train"
   ]
  },
  {
   "cell_type": "markdown",
   "metadata": {},
   "source": [
    "#### 任务7：把文本转换成word2vec向量"
   ]
  },
  {
   "cell_type": "code",
   "execution_count": 30,
   "metadata": {},
   "outputs": [],
   "source": [
    "# 使用KeyedVectors.load_word2vec_format()函数加载预训练好的词向量文件\n",
    "model = KeyedVectors.load_word2vec_format('data/sgns.zhihu.word')"
   ]
  },
  {
   "cell_type": "code",
   "execution_count": 33,
   "metadata": {},
   "outputs": [
    {
     "data": {
      "text/plain": [
       "300"
      ]
     },
     "execution_count": 33,
     "metadata": {},
     "output_type": "execute_result"
    }
   ],
   "source": [
    "model['今天'].shape[0]"
   ]
  },
  {
   "cell_type": "code",
   "execution_count": 49,
   "metadata": {},
   "outputs": [
    {
     "data": {
      "text/plain": [
       "80"
      ]
     },
     "execution_count": 49,
     "metadata": {},
     "output_type": "execute_result"
    }
   ],
   "source": [
    "# 由于数据量大需要长时间训练，这里就用小样本试一下效果\n",
    "x_train = x_train[:80]\n",
    "x_test = x_test[:20]\n",
    "y_train = y_train[:80]\n",
    "y_test = y_test[:20]\n",
    "len(x_train)"
   ]
  },
  {
   "cell_type": "code",
   "execution_count": 50,
   "metadata": {},
   "outputs": [
    {
     "name": "stderr",
     "output_type": "stream",
     "text": [
      "\n",
      "apply:   0%|                        | 0/80 [00:00<?, ?it/s]\u001b[A\n",
      "apply:  12%|█▉             | 10/80 [00:00<00:00, 95.50it/s]\u001b[A\n",
      "apply:  41%|█████▊        | 33/80 [00:00<00:00, 114.84it/s]\u001b[A\n",
      "apply: 100%|██████████████| 80/80 [00:00<00:00, 215.14it/s]\u001b[A\n",
      "\n",
      "apply: 100%|██████████████| 20/20 [00:00<00:00, 392.58it/s]\u001b[A"
     ]
    },
    {
     "name": "stdout",
     "output_type": "stream",
     "text": [
      "(80, 300) (20, 300)\n"
     ]
    },
    {
     "name": "stderr",
     "output_type": "stream",
     "text": [
      "\n"
     ]
    }
   ],
   "source": [
    "#利用词向量取平均构造句向量\n",
    "sentence_len=model['今天'].shape[0]\n",
    "def get_sentence_vec(comment):\n",
    "    sentence_vec=np.zeros(sentence_len)\n",
    "    word_num=0\n",
    "    for word in comment:\n",
    "        if word in model:\n",
    "            sentence_vec+=model[word]\n",
    "            word_num+=1\n",
    "    return sentence_vec/word_num\n",
    "\n",
    "word2vec_train = np.vstack(x_train.progress_apply(get_sentence_vec))\n",
    "word2vec_test = np.vstack(x_test.progress_apply(get_sentence_vec))\n",
    "\n",
    "print (word2vec_train.shape, word2vec_test.shape)"
   ]
  },
  {
   "cell_type": "code",
   "execution_count": 51,
   "metadata": {
    "scrolled": false
   },
   "outputs": [
    {
     "name": "stdout",
     "output_type": "stream",
     "text": [
      "[[-0.085519    0.43515207 -0.17389666 ...  0.20313986  0.073142\n",
      "  -0.07703887]\n",
      " [        nan         nan         nan ...         nan         nan\n",
      "          nan]\n",
      " [-0.00253413  0.31285712  0.03232525 ...  0.06110513  0.09487825\n",
      "  -0.0657875 ]\n",
      " ...\n",
      " [-0.090169    0.42740925 -0.217206   ... -0.065442    0.09200576\n",
      "  -0.041123  ]\n",
      " [-0.04754096  0.42249026 -0.143586   ...  0.05339443  0.03275817\n",
      "  -0.080588  ]\n",
      " [-0.16413033  0.3194075  -0.00936734 ...  0.084864    0.14636583\n",
      "  -0.0699775 ]]\n",
      "True\n"
     ]
    }
   ],
   "source": [
    "# 查看向量，发现存在空值\n",
    "print(word2vec_train[:10])\n",
    "print(np.isnan(word2vec_train).any())"
   ]
  },
  {
   "cell_type": "code",
   "execution_count": 52,
   "metadata": {},
   "outputs": [],
   "source": [
    "# 去掉空值\n",
    "word2vec_train[np.isnan(word2vec_train)]=0\n",
    "word2vec_test[np.isnan(word2vec_test)] = 0"
   ]
  },
  {
   "cell_type": "code",
   "execution_count": 53,
   "metadata": {},
   "outputs": [
    {
     "name": "stdout",
     "output_type": "stream",
     "text": [
      "False\n",
      "False\n"
     ]
    }
   ],
   "source": [
    "# 检查后无空值\n",
    "print(np.isnan(word2vec_train).any())\n",
    "print(np.isnan(word2vec_test).any())"
   ]
  },
  {
   "cell_type": "markdown",
   "metadata": {},
   "source": [
    "#### 任务8：把文本转换成bert向量"
   ]
  },
  {
   "cell_type": "code",
   "execution_count": 8,
   "metadata": {},
   "outputs": [],
   "source": [
    "embedding_en = BertEmbedding()"
   ]
  },
  {
   "cell_type": "code",
   "execution_count": 9,
   "metadata": {
    "scrolled": true
   },
   "outputs": [
    {
     "name": "stderr",
     "output_type": "stream",
     "text": [
      "D:\\Downloads\\Anaconda\\envs\\NLP_class\\lib\\site-packages\\gluonnlp\\model\\bert.py:693: UserWarning: wiki_cn/wiki_multilingual will be deprecated. Please use wiki_cn_cased/wiki_multilingual_uncased instead.\n",
      "  warnings.warn('wiki_cn/wiki_multilingual will be deprecated.'\n"
     ]
    }
   ],
   "source": [
    "ctx = mxnet.cpu()\n",
    "embedding = BertEmbedding(ctx=ctx, dataset_name='wiki_multilingual')"
   ]
  },
  {
   "cell_type": "code",
   "execution_count": 10,
   "metadata": {},
   "outputs": [],
   "source": [
    "result = embedding(['今天'])"
   ]
  },
  {
   "cell_type": "code",
   "execution_count": 11,
   "metadata": {},
   "outputs": [
    {
     "data": {
      "text/plain": [
       "[(['今', '天'],\n",
       "  [array([ 1.26106322e-01,  2.66802341e-01,  8.72310027e-02, -6.03290349e-02,\n",
       "          -7.75884330e-01, -1.13786548e-01,  3.59727591e-01,  1.85813323e-01,\n",
       "          -1.47403002e+00, -1.19097352e-01, -7.38840699e-02, -7.87430704e-01,\n",
       "          -9.21352804e-02,  1.61335051e-01, -8.64775032e-02,  2.56176621e-01,\n",
       "           8.67899284e-02, -1.32034823e-01, -8.10163245e-02, -1.74523041e-01,\n",
       "           3.95636708e-02,  7.05541968e-02, -1.02931105e-01, -2.12510914e-01,\n",
       "           7.06533492e-01, -6.93008751e-02,  8.60075727e-02, -2.62604266e-01,\n",
       "          -1.59369946e+00, -1.49633080e-01, -1.63492024e-01,  5.32592773e-01,\n",
       "          -4.69610304e-01, -6.60765246e-02, -1.39505550e-01, -3.14024031e-01,\n",
       "           7.26260841e-02,  1.34167528e+00, -4.96392064e-02, -3.96719128e-01,\n",
       "           6.35222569e-02, -1.24420702e-01, -6.83844239e-02,  9.81433690e-03,\n",
       "          -3.70132998e-02, -3.15945178e-01,  6.09729528e-01,  1.38048172e-01,\n",
       "          -6.59693405e-02, -9.41009894e-02, -7.49259174e-01,  3.76792192e-01,\n",
       "           2.29001790e-01, -4.36345339e-01, -2.04384401e-02,  1.27597496e-01,\n",
       "          -2.80143678e-01,  4.38202657e-02,  1.90831870e-01,  2.05787390e-01,\n",
       "           1.03129065e+00, -4.77374680e-02, -2.58414537e-01,  1.24643020e-01,\n",
       "          -5.21558076e-02, -1.89845592e-01,  5.06949723e-02,  7.42469877e-02,\n",
       "          -1.77084714e-01,  1.19201057e-01,  1.99304760e-01,  2.05253616e-01,\n",
       "           2.32253879e-01, -3.04696709e-01,  2.71507531e-01,  1.94131047e-01,\n",
       "           1.54946834e-01, -2.09391147e-01, -1.40534580e-01,  1.79154813e-01,\n",
       "           1.66331947e-01,  2.83545375e-01, -4.85008568e-01, -1.10102713e-01,\n",
       "          -4.37588692e-02,  3.53730649e-01,  7.23953396e-02, -4.11256403e-02,\n",
       "          -8.49407092e-02, -3.21422130e-01,  6.40220046e-01, -3.01744163e-01,\n",
       "          -4.54312176e-01,  7.76606202e-02, -4.19383854e-01,  4.01837938e-02,\n",
       "          -3.23261052e-01,  1.00842738e+00, -2.18932271e-01,  2.30585501e-01,\n",
       "           1.68398395e-02,  1.46595612e-01,  1.70177445e-01, -2.34217346e-01,\n",
       "           2.61459291e-01,  2.28032231e-01,  1.65102705e-01,  1.80528983e-01,\n",
       "          -2.26848245e-01, -2.89855778e-01,  4.55773324e-01, -3.38162422e-01,\n",
       "           2.56421328e-01, -3.19461167e-01, -6.63729571e-03, -3.59232277e-01,\n",
       "          -2.51614779e-01, -5.85042655e-01,  2.99407244e-02,  1.08890526e-01,\n",
       "           1.09779947e-01,  1.17927873e+00,  7.00526461e-02, -1.68722495e-01,\n",
       "           1.58386186e-01,  1.07950479e-01, -5.55427194e-01,  4.00758743e-01,\n",
       "           8.85060951e-02, -2.95245498e-02,  8.94615203e-02,  1.16875812e-01,\n",
       "           9.45655406e-01, -2.48193353e-01, -1.67217374e-01, -1.24813199e-01,\n",
       "          -3.57200444e-01, -8.91825855e-02,  4.10464913e-01,  8.75420943e-02,\n",
       "           2.35141397e-01, -2.41117239e-01, -1.64400697e-01, -3.88971031e-01,\n",
       "          -1.03416644e-01,  1.00639954e-01,  1.52441904e-01, -3.37588906e-01,\n",
       "           5.99943027e-02,  8.34143162e-02,  1.95154741e-01,  5.97074449e-01,\n",
       "          -9.98994336e-04,  5.94795123e-03, -7.06354082e-02, -8.68372619e-02,\n",
       "          -4.43338275e-01, -4.76958960e-01,  3.45992565e-01, -2.50542855e+00,\n",
       "          -1.75109133e-01,  1.71542510e-01,  3.99805456e-01,  1.02809697e-01,\n",
       "           8.99637818e-01,  2.62709528e-01, -3.96312475e-01,  1.22865485e-02,\n",
       "          -6.69312835e-01,  1.47285536e-01, -1.25258565e-01,  8.64879191e-02,\n",
       "           1.54150099e-01,  9.46274400e-02, -2.97961265e-01,  6.06270730e-01,\n",
       "           1.19781710e-01, -3.04604024e-01, -1.67918161e-01,  1.73134714e-01,\n",
       "          -1.42603189e-01,  5.63433588e-01,  2.62960315e-01,  2.93688178e-01,\n",
       "          -2.41111428e-01,  2.52504230e-01, -2.10302398e-01,  1.78636029e-01,\n",
       "          -4.46130931e-02, -2.98608124e-01,  1.87268883e-01, -4.24292274e-02,\n",
       "           3.30697410e-02,  6.96135089e-02, -8.97845775e-02, -2.84802735e-01,\n",
       "           7.24574700e-02,  1.40984729e-03, -2.09936619e-01, -4.63914573e-02,\n",
       "          -4.66850728e-01,  8.46646950e-02,  2.63746083e-01,  2.40564883e-01,\n",
       "          -3.36567491e-01, -2.39261061e-01, -6.79055274e-01,  1.69596106e-01,\n",
       "          -1.59863949e-01, -2.59549052e-01,  2.85877913e-01,  8.04904997e-02,\n",
       "          -2.16998607e-01,  3.64427231e-02, -4.19895351e-03,  2.11900640e-02,\n",
       "           1.31882980e-01, -1.63818710e-02,  3.26660365e-01, -2.90987492e-02,\n",
       "          -1.40660316e-01, -1.91358663e-02, -5.07389307e-02, -5.15377149e-02,\n",
       "          -7.72325322e-02,  2.51942754e-01, -5.22490501e-01,  8.03613942e-03,\n",
       "          -1.88994348e-01, -1.63445592e-01, -1.13846026e-01, -3.61358747e-02,\n",
       "          -2.69619554e-01, -9.06395726e-03,  1.09605975e-01, -2.84056127e-01,\n",
       "          -2.32409030e-01,  1.17916115e-01,  8.92082453e-02, -6.59729913e-02,\n",
       "           2.91591167e-01, -1.24273121e-01,  2.01254100e-01, -4.53801304e-02,\n",
       "           1.33521545e+00,  5.70048511e-01,  1.32188246e-01, -6.67885691e-03,\n",
       "           3.68599325e-01,  1.69576973e-01,  3.06160986e-01,  3.08821976e-01,\n",
       "          -1.45869899e+00, -1.40947878e-01, -1.81350201e-01, -1.27963245e-01,\n",
       "           4.61721599e-01, -8.30608457e-02, -6.22207463e-01, -3.87557037e-02,\n",
       "          -1.02501965e+00, -1.61401615e-01,  1.01217628e-01,  1.29409418e-01,\n",
       "          -1.57489806e-01, -2.99530357e-01, -8.41979086e-02, -2.59303957e-01,\n",
       "          -1.85507134e-01, -2.17634276e-01, -3.18406940e-01, -8.77603441e-02,\n",
       "          -1.03986733e-01,  1.31400645e-01,  1.02642681e-02, -3.55789423e-01,\n",
       "           3.74548972e-01,  1.22185118e-01,  4.40281510e-01, -2.77468950e-01,\n",
       "          -5.11380196e-01, -4.45399523e-01,  6.50682077e-02,  3.84544164e-01,\n",
       "           2.65027970e-01, -4.27128136e-01,  2.79622197e-01,  1.42016113e-01,\n",
       "           2.84151644e-01, -2.00458057e-03, -2.31731749e+00,  7.58050829e-02,\n",
       "           3.53268713e-01, -2.52083428e-02, -1.25145584e-01, -7.88250417e-02,\n",
       "           1.68024912e-01,  1.11410409e-01,  3.76170203e-02, -3.74360859e-01,\n",
       "          -1.76447108e-01, -1.80362284e-01, -8.76877010e-02, -1.52705580e-01,\n",
       "           2.13665605e-01,  6.94131404e-02, -3.55336875e-01,  3.54051948e-01,\n",
       "          -6.56578660e-01,  1.79975390e-01, -1.09655797e+00,  2.34456658e-01,\n",
       "           1.08367577e-01, -2.76697040e-01,  1.44788101e-02,  9.24978554e-02,\n",
       "           1.16660610e-01,  3.34203094e-02, -2.57551223e-01,  1.11221418e-01,\n",
       "           1.74321383e-02,  4.64707464e-01,  8.76464993e-02, -3.02211680e-02,\n",
       "           2.02788696e-01, -1.76837921e-01,  5.86101748e-02, -3.23150218e-01,\n",
       "           3.98626864e-01, -7.29966909e-02,  8.50926414e-02,  2.77387381e-01,\n",
       "          -3.13408375e-01, -1.45106584e-01, -1.26967400e-01, -3.30692708e-01,\n",
       "          -9.21746641e-02,  6.08755574e-02, -3.19018736e-02, -1.76300272e-01,\n",
       "          -4.67699915e-02, -4.67610896e-01, -9.82120186e-02, -1.19484149e-01,\n",
       "          -8.63983110e-02,  5.03668413e-02,  6.13780171e-02, -1.12738304e-01,\n",
       "          -4.61732268e-01, -1.94343507e-01,  4.68280166e-03, -4.51166153e-01,\n",
       "          -4.47263658e-01, -1.53689012e-01,  1.44705981e-01, -1.52902856e-01,\n",
       "           1.27458975e-01,  1.39114633e-01,  1.21240847e-01,  2.70443529e-01,\n",
       "          -1.07925482e-01,  4.49916907e-02, -2.01556966e-01,  2.12367550e-02,\n",
       "           3.18209156e-02, -1.78075349e+00,  1.22928545e-01,  4.71502066e-01,\n",
       "          -8.31669867e-02,  8.07472318e-02,  3.55381757e-01, -2.20013529e-01,\n",
       "           7.17123926e-01,  4.06115681e-01, -4.97565158e-02, -2.63155341e-01,\n",
       "          -1.87172025e-01,  2.92106569e-02, -3.06485176e-01,  1.79982558e-03,\n",
       "           4.29848917e-02, -1.07468590e-02, -4.95602451e-02,  4.56169456e-01,\n",
       "          -4.31179889e-02, -4.22874391e-01,  2.73265064e-01, -2.88694918e-01,\n",
       "          -2.47252788e-02,  2.36432642e-01,  2.48168856e-01,  3.00108343e-01,\n",
       "           7.38754272e-02, -3.16119254e-01,  5.92554808e-01, -7.37164497e-01,\n",
       "           4.27768767e-01, -1.13189481e-01,  3.50129873e-01,  1.28235281e+00,\n",
       "          -3.31415772e-01,  9.66605246e-02, -2.40004495e-01,  1.38831961e+00,\n",
       "           5.00005856e-02,  8.48281011e-02,  9.96230766e-02,  3.71624529e-01,\n",
       "           1.40831396e-01, -1.18550634e+00, -1.67928290e+00,  2.30228707e-01,\n",
       "           8.57262537e-02, -2.77547932e+00, -1.13164201e-01,  4.78007831e-03,\n",
       "           7.50111938e-02,  6.44212812e-02, -5.72150230e-01, -1.37697339e-01,\n",
       "           2.76656240e-01, -9.72450435e-01, -3.00585121e-01,  7.80006796e-02,\n",
       "           2.94482291e-01, -5.49518466e-01,  2.56707162e-01,  2.93736830e-02,\n",
       "           1.30949342e+00, -6.27330691e-03,  2.00231671e-02, -3.41446027e-02,\n",
       "           2.68776119e-01, -1.56018570e-01,  3.56860816e-01,  1.41598657e-03,\n",
       "           2.22957969e-01, -2.35503107e-01,  2.44242787e-01, -1.65964998e-02,\n",
       "           2.00391412e-01, -9.69057251e-03,  6.15444779e-03,  1.78755075e-03,\n",
       "          -2.29847193e-01,  9.46993232e-02, -1.37527660e-01,  1.84551144e+00,\n",
       "          -1.93628371e-02,  3.48703712e-01, -2.39256501e-01,  1.21311188e-01,\n",
       "           2.59126544e-01,  5.47014177e-03,  4.43561733e-01,  1.59504414e-01,\n",
       "          -5.83179630e-02, -3.43183517e-01,  2.20565796e-01,  1.72658253e+00,\n",
       "          -2.05172300e-02,  2.14464128e-01,  3.41670930e-01,  8.80390525e-01,\n",
       "           4.26010042e-03,  1.95064694e-01,  1.09338000e-01, -9.70373526e-02,\n",
       "          -5.03570922e-02, -6.46455809e-02,  6.07973635e-01,  6.83265030e-01,\n",
       "          -7.07271993e-01, -2.53319442e-01,  1.21342614e-01, -3.17116380e-01,\n",
       "          -2.92985402e-02,  6.84522465e-02, -2.34826624e-01,  1.85807377e-01,\n",
       "          -2.53703982e-01, -2.72399187e-03,  4.68543619e-01,  2.34067529e-01,\n",
       "           1.14263453e-01,  3.06182206e-01, -6.61556870e-02,  1.58093631e-01,\n",
       "          -1.14024051e-01, -1.41105995e-01, -6.51377290e-02, -2.05903813e-01,\n",
       "           1.53660074e-01, -3.46582532e-02, -9.20230150e-01, -1.63497627e-02,\n",
       "          -9.38337147e-02, -2.43473351e-01,  4.93378133e-01,  9.99102056e-01,\n",
       "           7.27729201e-02,  4.63724844e-02,  3.25009078e-01,  2.73074269e-01,\n",
       "          -1.73848212e-01, -2.55281329e-01,  1.36712766e+00, -3.93186539e-01,\n",
       "          -2.09334925e-01,  8.77970532e-02,  7.92194903e-03,  3.22975516e-01,\n",
       "          -2.29011640e-01,  8.16138387e-02, -2.44001374e-01,  1.51399374e-01,\n",
       "          -3.71974334e-02,  8.22767541e-02,  7.56590962e-02, -3.26808482e-01,\n",
       "           1.45708874e-01, -2.93443978e-01,  1.15933500e-01, -1.25427306e-01,\n",
       "           3.07911158e-01, -2.14309558e-01,  5.68735003e-02, -5.91122136e-02,\n",
       "          -3.39143872e-01,  1.53029454e+00, -3.25454295e-01,  3.35788354e-02,\n",
       "          -2.98235625e-01, -4.90363210e-01, -3.14886630e-01,  7.61448294e-02,\n",
       "           4.91844356e-01,  4.01459396e-01,  5.85890561e-02,  1.88470259e-01,\n",
       "          -7.65935257e-02, -1.05816878e-01, -5.41607626e-02,  1.01357079e+00,\n",
       "          -1.55723348e-01,  3.88455093e-01, -5.03053308e-01,  7.38272369e-01,\n",
       "          -2.06884779e-02, -4.38171327e-01, -2.91449606e-01,  1.76572651e-01,\n",
       "           4.28900808e-01, -1.38760414e-02,  1.71694219e-01,  4.26687181e-01,\n",
       "          -3.02698821e-01,  2.45089561e-01, -3.93071920e-01, -6.40760660e-01,\n",
       "           3.91694039e-01, -1.15061805e-01,  8.06533694e-02, -1.92064738e+00,\n",
       "          -1.07382469e-01,  5.60993031e-02,  4.74147320e-01,  1.52929157e-01,\n",
       "          -1.51162986e-02,  4.37012594e-03, -1.17910467e-01,  2.80901849e-01,\n",
       "          -1.48666799e-01,  2.85651926e-02,  5.18093467e-01, -1.84381470e-01,\n",
       "          -3.30267310e-01,  1.22551285e-02, -1.85444206e-01, -2.56561995e-01,\n",
       "           1.91102132e-01, -6.46088049e-02,  7.74124265e-02,  3.34806025e-01,\n",
       "           1.68648645e-01,  2.86596149e-01, -2.16023773e-01,  6.21371232e-02,\n",
       "           5.54141700e-02, -1.17394432e-01, -3.19062829e-01,  3.74340788e-02,\n",
       "           4.93071347e-01, -1.29419476e-01, -6.29059970e-02, -3.26554105e-02,\n",
       "           5.72735891e-02, -4.83003259e-02,  3.15703988e-01,  4.80694652e-01,\n",
       "          -1.12627077e+00, -1.09754004e-01,  3.40339035e-01,  2.15341955e-01,\n",
       "           7.08184958e-01,  1.00181863e-01,  4.47505176e-01, -3.32108617e-01,\n",
       "          -2.27021277e-01,  1.36014104e-01,  5.07473722e-02,  2.79215336e-01,\n",
       "           2.51521587e-01,  6.26080036e-01,  1.79235369e-01, -1.08090714e-01,\n",
       "          -1.47943527e-01,  1.84664428e-01, -2.22321134e-02,  1.23993143e-01,\n",
       "          -3.32192481e-02,  1.96175575e-01,  2.32960790e-01,  2.90090650e-01,\n",
       "           9.78291109e-02,  2.73019075e-01, -3.28467250e-01, -4.99838442e-02,\n",
       "           4.32633579e-01, -1.28734767e-01, -1.34447455e+00, -6.02802262e-02,\n",
       "          -2.82504678e-01,  2.45649427e-01,  1.57594755e-01, -7.11214066e-01,\n",
       "           1.06716406e+00,  4.51241821e-01, -4.64118809e-01,  4.04723436e-02,\n",
       "           4.36342001e-01,  1.49244583e+00, -2.46528089e-01,  3.24444413e-01,\n",
       "           7.68179372e-02, -4.70080376e-01, -4.39414084e-02,  3.61224532e-01,\n",
       "           1.85811996e-01,  4.13785130e-03, -1.81902146e+00,  1.03456140e-01,\n",
       "           6.63369775e-01,  4.85309541e-01, -1.09832084e+00,  2.99086496e-02,\n",
       "          -2.99130976e-01, -2.31902108e-01, -6.27931580e-02,  4.13477361e-01,\n",
       "           1.16714031e-01,  2.04963908e-01, -2.44405329e-01, -1.07766517e-01,\n",
       "          -2.28581727e-01, -3.05053592e-02,  1.29239663e-01, -5.52971661e-01,\n",
       "           5.72551787e-01, -1.66640282e+00, -1.40449420e-01,  1.31966174e-01,\n",
       "           4.61150140e-01, -3.04494649e-01, -5.94246462e-02,  2.94334978e-01,\n",
       "           1.62373948e+00, -4.83049870e-01, -1.15044087e-01, -2.62384027e-01,\n",
       "          -1.55561447e-01,  1.65369194e-02,  1.33945167e-01,  2.17812240e-01,\n",
       "          -3.16705972e-01, -3.57981831e-01, -4.04067002e-02, -2.55170673e-01,\n",
       "           2.52302498e-01,  1.38146877e-01, -1.92023411e-01,  1.11707054e-01,\n",
       "          -1.41912505e-01, -1.69336021e+00,  3.43797922e-01,  3.56099188e-01,\n",
       "           1.16415247e-01,  5.19578904e-02,  1.67370355e+00, -8.39106590e-02,\n",
       "           4.42560881e-01,  8.83387327e-02,  2.33116448e-01,  3.40943784e-01,\n",
       "          -1.12218529e-01,  3.71993333e-02, -1.18298024e-01,  2.46531010e-01,\n",
       "           5.63015282e-01, -4.80919152e-01, -2.44298130e-01,  1.62026346e-01,\n",
       "           4.00632054e-01, -1.09600008e-01, -1.12734988e-01,  3.44706297e-01,\n",
       "          -7.72474945e-01,  7.56983906e-02,  2.94565797e-01, -4.01974142e-01,\n",
       "           2.67698914e-01, -1.51735395e-02,  1.56277165e-01, -4.56883430e-01,\n",
       "           2.43612036e-01,  2.26460785e-01,  1.11711368e-01,  3.08002979e-01,\n",
       "          -1.54413319e+00, -2.78150856e-01, -2.94177756e-02,  1.29684055e+00,\n",
       "           2.09367484e-01, -9.56634432e-02,  1.22253895e+00, -1.66500002e-01,\n",
       "           8.60894769e-02,  1.60716608e-01, -5.97515285e-01,  3.64835262e-01,\n",
       "           2.09492847e-01, -4.08062905e-01, -1.27320933e+00, -2.06542468e+00,\n",
       "          -2.11794302e-01,  9.25208554e-02,  2.63187975e-01,  2.07841665e-01,\n",
       "           4.35125977e-02,  3.40145886e-01,  1.17807984e-01, -3.16560447e-01,\n",
       "           5.29482812e-02, -1.98397905e-01, -4.27072868e-02, -5.01838438e-02,\n",
       "          -1.03334904e-01,  1.30403638e+00, -1.05680496e-01,  2.11387539e+00,\n",
       "          -2.78932601e-01, -1.74029738e-01, -1.48544431e-01,  3.32106620e-01,\n",
       "          -1.85129374e-01,  1.88460089e-02, -1.45166323e-01, -3.02773684e-01],\n",
       "         dtype=float32),\n",
       "   array([ 2.76840925e-01,  8.26565027e-01,  9.07764882e-02, -1.50831327e-01,\n",
       "          -6.34551585e-01,  6.10323846e-01,  3.97140115e-01, -1.00776479e-02,\n",
       "          -6.45264566e-01,  4.22459871e-01, -8.07657242e-01, -5.92913926e-01,\n",
       "          -4.75562960e-01,  2.22507417e-01,  1.83781922e-01, -6.24561012e-01,\n",
       "          -3.49579811e-01,  8.73854756e-02, -4.15823460e-01,  6.43006444e-01,\n",
       "           3.47611904e-01, -1.51468739e-01,  7.03401864e-04, -1.27931923e-01,\n",
       "           5.79305947e-01, -7.44373322e-01, -1.93675160e-01,  2.22524792e-01,\n",
       "           5.86300492e-01, -1.79958761e-01,  5.16699076e-01,  4.03794795e-02,\n",
       "          -6.57347217e-02, -5.08569002e-01, -5.45851588e-01, -5.60832500e-01,\n",
       "           8.39215592e-02,  7.73327351e-01, -6.76578656e-02, -3.77435863e-01,\n",
       "          -1.44090988e-02,  2.21318886e-01, -1.87255934e-01, -9.98707712e-02,\n",
       "           3.48694354e-01, -4.69148725e-01,  6.75562024e-01,  1.86995074e-01,\n",
       "           3.36505175e-01, -1.17399938e-01, -3.43767345e-01, -2.32344866e-01,\n",
       "           5.58337212e-01, -3.32930386e-01, -1.42446637e-01, -1.67436361e-01,\n",
       "           1.74312398e-01, -1.67070940e-01, -2.54285008e-01,  2.35959832e-02,\n",
       "          -5.12498319e-01, -1.77699074e-01,  1.28490105e-01,  7.30292737e-01,\n",
       "           2.13838533e-01,  3.37158620e-01, -4.47189242e-01,  8.90575767e-01,\n",
       "          -1.23945497e-01,  2.51982994e-02,  2.37684131e-01, -6.03702068e-02,\n",
       "          -3.92875761e-01, -8.27128649e-01,  9.60737988e-02,  9.37794000e-02,\n",
       "          -3.25616956e-01,  3.71967912e-01, -4.72943455e-01,  2.85212129e-01,\n",
       "           2.88874865e-01,  3.07326049e-01,  1.13291092e-01,  8.42854321e-01,\n",
       "          -1.97290570e-01, -5.22886097e-01, -9.34460938e-01,  3.35298449e-01,\n",
       "           1.37902901e-01,  4.28579897e-01,  5.54107130e-04, -1.04619473e-01,\n",
       "          -5.04912496e-01, -3.88676077e-01, -1.02410428e-01,  5.50666809e-01,\n",
       "          -1.91893429e-01, -1.78403199e-01,  1.84441984e-01, -2.60585874e-01,\n",
       "           1.18960977e+00,  4.59139705e-01,  2.08614141e-01,  1.05013363e-01,\n",
       "           4.42037404e-01, -3.23232532e-01, -7.67949224e-01,  5.72599709e-01,\n",
       "          -2.72664465e-02, -8.97544697e-02,  2.73619294e-01, -5.13183713e-01,\n",
       "          -1.47768781e-02, -9.78036821e-02, -3.66084695e-01,  1.64795011e-01,\n",
       "          -6.91594303e-01, -4.93507385e-01, -3.65763977e-02, -3.13233584e-01,\n",
       "           6.20015800e-01, -2.15986282e-01, -6.75275683e-01, -2.87165463e-01,\n",
       "          -2.55224437e-01, -4.71210808e-01, -6.07174397e-01,  5.19710422e-01,\n",
       "          -2.75853395e-01,  2.59882450e-01, -2.92171836e-01, -1.72849536e-01,\n",
       "           4.25588965e-01, -5.18059552e-01, -1.29473180e-01, -1.44534975e-01,\n",
       "          -3.67147088e-01, -5.47776937e-01, -1.94942519e-01,  3.59415263e-03,\n",
       "          -1.38248533e-01,  3.69243026e-02,  1.46158755e-01, -3.76326591e-01,\n",
       "          -4.68575686e-01, -1.27162173e-01,  4.90764230e-01, -3.61120701e-03,\n",
       "          -4.05050665e-01,  7.16862142e-01, -1.62370205e-01,  1.45982653e-01,\n",
       "           1.32606953e-01, -5.16272783e-01, -2.25130439e-01, -7.62912333e-02,\n",
       "          -7.15014040e-01,  4.63619262e-01, -9.10431705e-03, -1.74510732e-01,\n",
       "          -1.58363938e-01,  8.39608461e-02, -3.83243084e-01,  2.39158228e-01,\n",
       "          -3.95091951e-01, -2.88085133e-01, -4.62105691e-01,  4.23221558e-01,\n",
       "          -5.09737909e-01,  3.98316622e-01,  4.21871431e-02,  7.52901435e-02,\n",
       "           3.84747952e-01,  1.47277191e-02, -1.51112840e-01,  3.84985089e-01,\n",
       "          -4.32581782e-01,  5.52707255e-01, -3.57496515e-02,  2.62063533e-01,\n",
       "          -4.89295244e-01,  5.74415624e-01,  3.64445269e-01,  4.28482264e-01,\n",
       "          -9.01821628e-02,  5.04856348e-01,  3.83304358e-01,  1.63643792e-01,\n",
       "          -3.36065024e-01, -1.26045555e-01,  5.65065086e-01, -1.95936143e-01,\n",
       "          -1.35561243e-01,  1.60098895e-02, -4.71215159e-01,  1.17438227e-01,\n",
       "           6.58761188e-02,  1.39416113e-01, -2.85199314e-01, -7.74468541e-01,\n",
       "          -5.18814139e-02, -7.03027993e-02, -3.92293751e-01,  3.98168236e-01,\n",
       "           3.28498483e-01, -6.54256761e-01, -1.81806594e-01,  7.50007212e-01,\n",
       "          -1.75041314e-02, -1.75579280e-01,  4.16870832e-01,  8.09306502e-02,\n",
       "          -6.43741548e-01, -6.76393449e-01,  9.76293802e-01, -4.92420822e-01,\n",
       "           1.02614427e+00,  5.89634106e-02,  4.79298562e-01,  2.17192143e-01,\n",
       "          -2.72959143e-01,  1.14002660e-01, -2.36779660e-01,  1.84743851e-01,\n",
       "          -9.25041288e-02,  1.21317118e-01, -8.55241477e-01, -1.06928244e-01,\n",
       "          -2.43034482e-01, -2.77067870e-01,  5.39215542e-02, -1.51094660e-01,\n",
       "          -1.66546777e-01, -4.45110142e-01, -1.41027048e-02, -9.44142044e-03,\n",
       "          -2.35394657e-01, -5.20308077e-01, -2.43284419e-01, -3.06548625e-01,\n",
       "          -1.61093920e-01,  2.17013136e-02,  3.90323281e-01,  6.97779775e-01,\n",
       "          -3.29184026e-01,  4.51146245e-01, -1.24973223e-01,  5.86056590e-01,\n",
       "           4.34757829e-01, -3.29620123e-01,  1.32997274e-01, -9.33215618e-01,\n",
       "           1.59078345e-01,  1.71741679e-01,  6.28198147e-01,  3.62409949e-01,\n",
       "           4.94185925e-01,  4.07402188e-01, -4.28444445e-01,  6.80085719e-02,\n",
       "           4.11365747e-01, -2.57630974e-01,  3.89243126e-01, -9.62318778e-02,\n",
       "          -7.28507221e-01, -5.68340644e-02,  1.62404522e-01, -2.61736155e-01,\n",
       "           3.58443737e-01, -2.94490129e-01, -2.77685463e-01,  2.26352811e-01,\n",
       "          -7.01522902e-02,  2.17956036e-01, -5.76574922e-01, -6.76278397e-02,\n",
       "           5.40413976e-01, -2.24588946e-01,  1.90195262e-01, -9.57252830e-02,\n",
       "          -5.32542944e-01, -3.60040665e-01,  5.65953076e-01,  6.45993352e-01,\n",
       "          -1.33299544e-01,  1.47439493e-02, -5.20115346e-02, -6.19270325e-01,\n",
       "           6.13151610e-01, -2.98626214e-01,  2.87942976e-01, -3.71322721e-01,\n",
       "           5.38482010e-01, -4.82835799e-01, -7.15893060e-02, -2.43481338e-01,\n",
       "          -2.68257201e-01,  1.88601077e-01,  1.67941257e-01,  2.40665004e-02,\n",
       "           5.74061513e-01,  3.06341976e-01, -4.11236249e-02, -3.27600002e-01,\n",
       "          -2.57163614e-01,  1.90908790e-01,  5.69362342e-02,  2.26930857e-01,\n",
       "          -3.03816229e-01,  2.65539050e-01,  5.38473427e-01,  7.64161423e-02,\n",
       "          -2.41635010e-01,  2.61448503e-01, -1.16281199e+00,  2.90542573e-01,\n",
       "          -3.95415984e-02, -5.81672907e-01,  5.77206872e-02,  2.95678496e-01,\n",
       "          -9.22688246e-02, -2.39181519e-01,  2.60175705e-01,  2.48556826e-02,\n",
       "          -8.83583203e-02,  3.87453645e-01,  2.58662075e-01, -1.07055640e+00,\n",
       "          -9.40756574e-02,  1.69061646e-02,  4.87125993e-01, -5.75047135e-02,\n",
       "          -1.32935971e-01,  1.86964378e-01,  3.83485109e-04,  8.61733258e-02,\n",
       "           2.25000799e-01, -1.49061039e-01, -1.23562358e-01, -4.27220911e-02,\n",
       "          -1.51235417e-01,  1.06609017e-02, -4.82833087e-01, -2.75613129e-01,\n",
       "          -1.55519038e-01, -4.79521513e-01, -4.59499866e-01,  3.90237331e-01,\n",
       "          -5.58014572e-01,  2.18323976e-01, -3.70846659e-01, -1.79571033e-01,\n",
       "          -6.82328790e-02, -3.65593940e-01,  1.78819627e-01,  4.80528176e-02,\n",
       "          -2.44904310e-01,  5.67843914e-01,  5.79010010e-01, -1.56230539e-01,\n",
       "           3.37402791e-01,  7.60124475e-02,  1.53991506e-01,  2.69366235e-01,\n",
       "           8.30932409e-02, -3.16670150e-01,  1.52292758e-01,  1.10690880e+00,\n",
       "           1.70462534e-01, -2.39071757e-01, -5.64445108e-02, -3.39342654e-01,\n",
       "          -1.43847376e-01,  5.02909124e-01, -3.12874019e-02,  9.44376141e-02,\n",
       "           8.18557262e-01,  4.71902877e-01, -4.04975265e-02,  9.20465589e-02,\n",
       "           3.22986841e-01,  2.18848631e-01,  3.94165628e-02, -1.20331392e-01,\n",
       "           3.85783911e-02,  4.40358929e-02, -2.30434299e-01, -6.97801635e-02,\n",
       "           1.30828425e-01, -9.52604190e-02,  3.37484509e-01,  1.23802461e-01,\n",
       "           1.32070839e-01, -7.92660192e-03,  1.32292002e-01, -3.01257938e-01,\n",
       "           2.49189928e-01,  1.16309941e-01, -2.50121862e-01,  2.63739735e-01,\n",
       "          -1.61772236e-01,  2.19450206e-01, -6.20333612e-01,  7.33659714e-02,\n",
       "           1.07449546e-01, -8.04409161e-02,  8.54642749e-01,  2.25090206e-01,\n",
       "           6.72243953e-01, -1.66301087e-01,  2.10834548e-01,  5.05019605e-01,\n",
       "           1.26398206e-01, -1.43682480e-01, -3.31898779e-01,  1.14536852e-01,\n",
       "          -2.30645597e-01,  4.73025814e-02, -1.07875749e-01, -1.72144145e-01,\n",
       "          -5.17711230e-02,  5.70954561e-01, -8.09718072e-01,  8.00146312e-02,\n",
       "           5.16867712e-02, -2.72809356e-01, -2.84016840e-02, -1.19916223e-01,\n",
       "           3.41239154e-01,  1.11662716e-01,  1.66919865e-02,  5.52908033e-02,\n",
       "           6.20945692e-01, -3.48970354e-01, -2.35599458e-01,  5.48840940e-01,\n",
       "           9.64760855e-02, -3.98310162e-02, -2.71340668e-01,  5.15167832e-01,\n",
       "           1.41690895e-01, -1.43796531e-02, -4.97483909e-02, -3.21184814e-01,\n",
       "           1.87300742e-01, -6.18926287e-01,  7.87684143e-01, -1.94054589e-01,\n",
       "          -7.76575029e-01,  4.46316510e-01, -3.18624437e-01,  5.10790229e-01,\n",
       "           1.06287435e-01,  3.07366312e-01,  3.28234166e-01,  4.54727113e-01,\n",
       "          -3.33646864e-01,  1.19129881e-01,  3.97487879e-01,  7.51769006e-01,\n",
       "           3.20967078e-01, -3.73383671e-01,  5.18961966e-01,  6.60418198e-02,\n",
       "          -4.74335998e-03,  2.64523298e-01, -2.13951319e-01, -1.19847864e-01,\n",
       "           5.07644713e-01, -2.59853929e-01,  7.63416231e-01, -3.07736218e-01,\n",
       "           2.15829849e-01,  3.37613165e-01,  6.54141456e-02, -7.23732769e-01,\n",
       "           4.50283915e-01, -1.52957305e-01,  1.99199438e-01,  2.92792946e-01,\n",
       "          -2.69260675e-01,  2.86223218e-02,  3.98590088e-01,  4.09100741e-01,\n",
       "          -1.16927907e-01,  1.85440794e-01,  3.95636320e-01, -8.28807876e-02,\n",
       "          -2.30106711e-01,  1.76303089e-01, -6.61098719e-01, -3.41480643e-01,\n",
       "           5.16563296e-01,  3.02324817e-02,  5.97619891e-01,  6.41855538e-01,\n",
       "           1.46834910e-01, -2.11373456e-02, -1.11692272e-01, -1.08284995e-01,\n",
       "           5.70352674e-01,  3.46855015e-01, -6.93482101e-01, -2.88041793e-02,\n",
       "           4.16417003e-01, -1.39435589e-01, -7.61784688e-02, -6.61546171e-01,\n",
       "           2.46568948e-01,  1.22470096e-01,  4.17300224e-01,  4.40982610e-01,\n",
       "          -4.16393697e-01,  3.16070586e-01, -5.00988066e-01, -5.51797450e-01,\n",
       "          -2.90869355e-01, -1.30978793e-01,  5.02031505e-01, -5.04513204e-01,\n",
       "           6.68973207e-01, -5.41653335e-01, -2.41655484e-02, -5.36852598e-01,\n",
       "          -3.76026601e-01,  3.21112536e-02, -6.04872227e-01,  2.71088123e-01,\n",
       "           3.00134480e-01, -1.16666459e-01, -3.37054133e-01, -9.05266851e-02,\n",
       "           3.84772986e-01, -5.64304352e-01,  7.90870488e-01, -5.95813990e-03,\n",
       "          -1.49497315e-01, -3.63787830e-01,  1.39228120e-01, -4.25898105e-01,\n",
       "          -1.98030308e-01, -2.07325965e-02, -2.93137506e-02, -1.99729592e-01,\n",
       "          -2.48851925e-01,  2.83485353e-01, -4.01313961e-01,  1.47738248e-01,\n",
       "           8.44463557e-02,  3.18531126e-01, -2.31741637e-01,  4.15888965e-01,\n",
       "           4.02550042e-01, -4.48794365e-01,  2.86729485e-01, -4.48561072e-01,\n",
       "          -7.52085268e-01, -2.37673670e-02, -5.68502486e-01, -3.53369743e-01,\n",
       "           8.89680386e-02,  4.31340665e-01,  2.89432585e-01,  3.15292716e-01,\n",
       "           3.59115094e-01, -5.57349883e-02, -1.58318490e-01, -1.10178508e-01,\n",
       "          -1.12563670e-02, -5.91831505e-02,  2.87963837e-01, -2.05741182e-01,\n",
       "          -3.57460201e-01, -2.66833548e-02,  4.38757360e-01, -3.23295593e-01,\n",
       "          -2.90090814e-02,  1.68381155e-01,  6.80677071e-02, -3.36379141e-01,\n",
       "          -2.87641376e-01, -2.28633702e-01,  2.06889778e-01,  5.51556274e-02,\n",
       "           5.15698493e-01, -1.29872516e-01, -3.13996375e-01, -4.22227383e-01,\n",
       "           2.43226588e-01, -4.99812931e-01, -4.01831090e-01,  2.02137232e-01,\n",
       "           1.97118297e-01, -1.81076437e-01, -1.05943531e-01,  2.20869422e-01,\n",
       "           9.84147966e-01,  1.15650997e-01,  3.56579483e-01,  1.66290596e-01,\n",
       "          -4.24213171e-01,  2.40331993e-01,  7.08245456e-01,  3.49749982e-01,\n",
       "          -8.52970719e-01,  2.20732927e-01,  5.02041399e-01, -4.67942953e-02,\n",
       "           1.19512536e-01, -6.99503481e-01, -7.85716116e-01,  2.36024842e-01,\n",
       "           7.53568053e-01,  4.72140402e-01,  2.73438036e-01, -6.52500391e-02,\n",
       "           4.59974319e-01, -1.68109506e-01,  1.81992680e-01,  3.37684005e-01,\n",
       "           9.74726006e-02,  3.61280516e-02,  9.69141498e-02, -2.83546716e-01,\n",
       "          -9.33192000e-02,  1.45069718e-01,  3.41943800e-01, -5.25634468e-01,\n",
       "           5.05060971e-01,  2.83408999e-01,  2.76972383e-01,  2.21857071e-01,\n",
       "          -3.25723030e-02,  5.63406572e-02,  6.07237756e-01, -6.95867181e-01,\n",
       "           1.00567728e-01,  4.74537611e-01,  3.37903649e-01, -6.83513358e-02,\n",
       "           4.02592719e-01,  6.97898567e-02, -4.13532823e-01,  5.76120138e-01,\n",
       "           1.16270646e-01,  1.84804901e-01,  6.81304455e-01,  1.40475839e-01,\n",
       "           2.51083404e-01,  1.82496279e-01, -3.27882916e-01,  1.71544284e-01,\n",
       "           3.30828249e-01,  1.81298435e-01,  1.49514273e-01, -7.48686135e-01,\n",
       "          -8.86624083e-02,  2.94715576e-02,  2.19254240e-01,  4.46581870e-01,\n",
       "           5.85817061e-02,  3.81266117e-01,  3.03337276e-01, -1.88793212e-01,\n",
       "           3.14181261e-02, -5.68980873e-01,  5.44854403e-02, -7.74939805e-02,\n",
       "          -6.14694118e-01,  1.78257316e-01, -1.85588390e-01, -4.92249668e-01,\n",
       "           4.82140332e-01, -8.45473826e-01,  1.90706059e-01, -2.74542332e-01,\n",
       "          -4.25427765e-01, -2.88292974e-01, -3.55689317e-01, -5.32729745e-01,\n",
       "          -3.04560382e-02,  1.46151841e-01,  1.55448437e-01, -3.66787940e-01,\n",
       "           2.29660094e-01, -3.51501614e-01, -8.73198062e-02,  7.02636614e-02,\n",
       "          -3.88192892e-01, -4.43718612e-01,  6.04313254e-01,  5.10663837e-02,\n",
       "           7.68236071e-02,  9.08105671e-02,  9.57990587e-01,  5.30025721e-01,\n",
       "           3.75556648e-01,  1.13459659e+00, -1.48903561e+00, -3.27929080e-01,\n",
       "           9.01361585e-01,  1.15407608e-01, -3.78036529e-01,  3.17056119e-01,\n",
       "          -3.79730493e-01, -6.74803555e-03,  1.52334422e-01, -8.61858577e-03,\n",
       "           1.97943777e-01, -3.30416262e-02,  1.63521200e-01, -3.81670803e-01,\n",
       "          -1.01735607e-01, -4.94871855e-01,  3.22815329e-01,  9.53062177e-01,\n",
       "          -3.83967578e-01,  1.51089519e-01, -2.36456066e-01, -5.47379553e-02,\n",
       "           1.10694516e+00, -8.35253000e-02, -6.29568249e-02, -1.24091260e-01,\n",
       "           9.29023921e-02, -9.71774012e-03, -1.10696584e-01,  1.99686259e-01,\n",
       "          -3.43343556e-01, -5.87700456e-02, -2.36133710e-01, -9.13501531e-02,\n",
       "          -4.20142919e-01,  2.39062995e-01,  7.18532681e-01,  5.91429651e-01,\n",
       "           7.84924507e-01, -1.17374226e-01, -4.19736087e-01, -9.57143456e-02,\n",
       "          -4.41571586e-02, -2.72485793e-01,  4.47263211e-01,  2.00161874e-01,\n",
       "           2.01198429e-01, -1.56416342e-01, -4.52620797e-02,  6.01006746e-01,\n",
       "          -3.38032663e-01,  7.62699664e-01, -3.83426249e-01, -1.60245538e-01,\n",
       "          -5.73046982e-01, -5.12821972e-01,  8.31243396e-02, -3.98193419e-01,\n",
       "           1.16693616e-01,  3.55675668e-02,  7.60468543e-01,  5.14936745e-02,\n",
       "          -4.25191104e-01, -1.98021621e-01, -6.02186657e-02, -2.98234463e-01,\n",
       "          -2.55434394e-01,  6.27072603e-02, -5.09121060e-01, -6.11817837e-01],\n",
       "         dtype=float32)])]"
      ]
     },
     "execution_count": 11,
     "metadata": {},
     "output_type": "execute_result"
    }
   ],
   "source": [
    "result #查看数据结构，发现result[0][1][0]为“今天”的向量"
   ]
  },
  {
   "cell_type": "code",
   "execution_count": 91,
   "metadata": {},
   "outputs": [],
   "source": [
    "# 将comment数据用bert模型向量化\n",
    "vec_len = result[0][1][0].shape[0]\n",
    "\n",
    "def process_word(w):\n",
    "    vec_com = np.zeros(vec_len)\n",
    "    num = len(w)\n",
    "    res = embedding([w])\n",
    "    k = len(res[0][0])\n",
    "    for i in range(k):\n",
    "        vec_com += res[0][1][i]\n",
    "    return vec_com/k\n",
    "\n",
    "# 利用词向量平均法求句向量，输入词典类型\n",
    "def comm_vec(c):\n",
    "    vec_com = np.zeros(vec_len)\n",
    "    coun = 0\n",
    "    for w in c:\n",
    "        if w in model:\n",
    "            vec_com += process_word(w)\n",
    "            coun += 1\n",
    "    return vec_com/coun\n",
    "\n"
   ]
  },
  {
   "cell_type": "code",
   "execution_count": 94,
   "metadata": {
    "scrolled": true
   },
   "outputs": [
    {
     "name": "stderr",
     "output_type": "stream",
     "text": [
      "\n",
      "apply:   0%|                        | 0/80 [00:00<?, ?it/s]\u001b[A\n",
      "apply:   2%|▍               | 2/80 [00:04<03:09,  2.43s/it]\u001b[A\n",
      "apply:   5%|▊               | 4/80 [00:07<02:37,  2.07s/it]\u001b[A\n",
      "apply:   6%|█               | 5/80 [00:09<02:33,  2.05s/it]\u001b[A\n",
      "apply:   8%|█▏              | 6/80 [00:10<02:01,  1.65s/it]\u001b[A\n",
      "apply:  10%|█▌              | 8/80 [00:10<01:26,  1.20s/it]\u001b[A\n",
      "apply:  11%|█▊              | 9/80 [00:11<01:29,  1.26s/it]\u001b[A\n",
      "apply:  12%|█▉             | 10/80 [00:19<03:48,  3.27s/it]\u001b[A\n",
      "apply:  14%|██             | 11/80 [00:21<03:18,  2.88s/it]\u001b[A\n",
      "apply:  15%|██▎            | 12/80 [00:24<03:11,  2.82s/it]\u001b[A\n",
      "apply:  16%|██▍            | 13/80 [00:25<02:31,  2.27s/it]\u001b[A\n",
      "apply:  18%|██▋            | 14/80 [00:28<02:49,  2.57s/it]\u001b[A\n",
      "apply:  19%|██▊            | 15/80 [00:33<03:27,  3.19s/it]\u001b[A\n",
      "apply:  20%|███            | 16/80 [00:34<02:51,  2.68s/it]\u001b[A\n",
      "apply:  21%|███▏           | 17/80 [00:38<03:04,  2.93s/it]\u001b[A\n",
      "apply:  22%|███▍           | 18/80 [00:40<02:56,  2.84s/it]\u001b[A\n",
      "apply:  24%|███▌           | 19/80 [00:41<02:17,  2.25s/it]\u001b[A\n",
      "apply:  25%|███▊           | 20/80 [00:43<02:08,  2.15s/it]\u001b[A\n",
      "apply:  26%|███▉           | 21/80 [00:45<02:03,  2.09s/it]\u001b[A\n",
      "apply:  28%|████▏          | 22/80 [01:01<05:59,  6.20s/it]\u001b[A\n",
      "apply:  29%|████▎          | 23/80 [01:02<04:25,  4.65s/it]\u001b[A\n",
      "apply:  30%|████▌          | 24/80 [01:04<03:30,  3.75s/it]\u001b[A\n",
      "apply:  31%|████▋          | 25/80 [01:06<03:03,  3.34s/it]\u001b[A\n",
      "apply:  32%|████▉          | 26/80 [01:09<02:52,  3.19s/it]\u001b[A\n",
      "apply:  34%|█████          | 27/80 [01:12<02:49,  3.21s/it]\u001b[A\n",
      "apply:  35%|█████▎         | 28/80 [01:18<03:31,  4.07s/it]\u001b[A\n",
      "apply:  36%|█████▍         | 29/80 [01:21<03:08,  3.70s/it]\u001b[A\n",
      "apply:  38%|█████▋         | 30/80 [01:32<04:57,  5.95s/it]\u001b[A\n",
      "apply:  39%|█████▊         | 31/80 [01:33<03:41,  4.51s/it]\u001b[A\n",
      "apply:  40%|██████         | 32/80 [01:34<02:44,  3.43s/it]\u001b[A\n",
      "apply:  41%|██████▏        | 33/80 [01:45<04:23,  5.60s/it]\u001b[A\n",
      "apply:  42%|██████▍        | 34/80 [01:51<04:20,  5.67s/it]\u001b[A\n",
      "apply:  44%|██████▌        | 35/80 [02:01<05:22,  7.16s/it]\u001b[A\n",
      "apply:  45%|██████▊        | 36/80 [02:02<03:45,  5.11s/it]\u001b[A\n",
      "apply:  46%|██████▉        | 37/80 [02:04<02:57,  4.13s/it]\u001b[A\n",
      "apply:  48%|███████▏       | 38/80 [02:13<04:00,  5.72s/it]\u001b[A\n",
      "apply:  49%|███████▎       | 39/80 [02:24<05:03,  7.41s/it]\u001b[A\n",
      "apply:  50%|███████▌       | 40/80 [02:34<05:28,  8.22s/it]\u001b[A\n",
      "apply:  51%|███████▋       | 41/80 [02:35<03:48,  5.86s/it]\u001b[A\n",
      "apply:  52%|███████▉       | 42/80 [02:40<03:39,  5.78s/it]\u001b[A\n",
      "apply:  54%|████████       | 43/80 [02:42<02:47,  4.52s/it]\u001b[A\n",
      "apply:  55%|████████▎      | 44/80 [02:44<02:15,  3.77s/it]\u001b[A\n",
      "apply:  56%|████████▍      | 45/80 [02:55<03:28,  5.95s/it]\u001b[A\n",
      "apply:  57%|████████▋      | 46/80 [03:04<03:54,  6.91s/it]\u001b[A\n",
      "apply:  59%|████████▊      | 47/80 [03:09<03:25,  6.21s/it]\u001b[A\n",
      "apply:  60%|█████████      | 48/80 [03:09<02:25,  4.56s/it]\u001b[A\n",
      "apply:  61%|█████████▏     | 49/80 [03:22<03:39,  7.07s/it]\u001b[A\n",
      "apply:  62%|█████████▍     | 50/80 [03:25<02:49,  5.65s/it]\u001b[A\n",
      "apply:  64%|█████████▌     | 51/80 [03:29<02:31,  5.22s/it]\u001b[A\n",
      "apply:  65%|█████████▊     | 52/80 [03:35<02:32,  5.46s/it]\u001b[A\n",
      "apply:  66%|█████████▉     | 53/80 [03:43<02:46,  6.16s/it]\u001b[A\n",
      "apply:  68%|██████████▏    | 54/80 [03:46<02:20,  5.41s/it]\u001b[A\n",
      "apply:  69%|██████████▎    | 55/80 [03:50<02:05,  5.00s/it]\u001b[A\n",
      "apply:  70%|██████████▌    | 56/80 [03:53<01:41,  4.22s/it]\u001b[A\n",
      "apply:  71%|██████████▋    | 57/80 [03:58<01:40,  4.36s/it]\u001b[A\n",
      "apply:  72%|██████████▉    | 58/80 [03:58<01:09,  3.17s/it]\u001b[A\n",
      "apply:  74%|███████████    | 59/80 [04:01<01:03,  3.02s/it]\u001b[A\n",
      "apply:  75%|███████████▎   | 60/80 [04:01<00:45,  2.30s/it]\u001b[A\n",
      "apply:  76%|███████████▍   | 61/80 [04:12<01:31,  4.81s/it]\u001b[A\n",
      "apply:  78%|███████████▋   | 62/80 [04:13<01:06,  3.70s/it]\u001b[A\n",
      "apply:  79%|███████████▊   | 63/80 [04:14<00:47,  2.79s/it]\u001b[A\n",
      "apply:  80%|████████████   | 64/80 [04:14<00:34,  2.16s/it]\u001b[A\n",
      "apply:  81%|████████████▏  | 65/80 [04:21<00:54,  3.62s/it]\u001b[A\n",
      "apply:  82%|████████████▍  | 66/80 [04:26<00:53,  3.85s/it]\u001b[A\n",
      "apply:  84%|████████████▌  | 67/80 [04:28<00:41,  3.21s/it]\u001b[A\n",
      "apply:  85%|████████████▊  | 68/80 [04:31<00:40,  3.35s/it]\u001b[A\n",
      "apply:  86%|████████████▉  | 69/80 [04:33<00:31,  2.84s/it]\u001b[A\n",
      "apply:  88%|█████████████▏ | 70/80 [04:35<00:27,  2.73s/it]\u001b[A\n",
      "apply:  89%|█████████████▎ | 71/80 [04:40<00:28,  3.17s/it]\u001b[A\n",
      "apply:  90%|█████████████▌ | 72/80 [04:42<00:22,  2.83s/it]\u001b[A\n",
      "apply:  91%|█████████████▋ | 73/80 [04:45<00:20,  2.91s/it]\u001b[A\n",
      "apply:  92%|█████████████▉ | 74/80 [04:46<00:15,  2.59s/it]\u001b[A\n",
      "apply:  94%|██████████████ | 75/80 [04:49<00:12,  2.56s/it]\u001b[A\n",
      "apply:  95%|██████████████▎| 76/80 [04:50<00:08,  2.02s/it]\u001b[A\n",
      "apply:  96%|██████████████▍| 77/80 [04:58<00:11,  3.90s/it]\u001b[A\n",
      "apply:  98%|██████████████▋| 78/80 [05:05<00:09,  4.91s/it]\u001b[A\n",
      "apply:  99%|██████████████▊| 79/80 [05:10<00:04,  4.84s/it]\u001b[A\n",
      "apply: 100%|███████████████| 80/80 [05:19<00:00,  4.00s/it]\u001b[A\n",
      "\n",
      "apply:   0%|                        | 0/20 [00:00<?, ?it/s]\u001b[A\n",
      "apply:  15%|██▍             | 3/20 [00:01<00:08,  1.90it/s]\u001b[A\n",
      "apply:  20%|███▏            | 4/20 [00:11<00:53,  3.34s/it]\u001b[A\n",
      "apply:  25%|████            | 5/20 [00:12<00:39,  2.63s/it]\u001b[A\n",
      "apply:  30%|████▊           | 6/20 [00:14<00:36,  2.58s/it]\u001b[A\n",
      "apply:  35%|█████▌          | 7/20 [00:15<00:24,  1.92s/it]\u001b[A\n",
      "apply:  40%|██████▍         | 8/20 [00:25<00:53,  4.44s/it]\u001b[A\n",
      "apply:  45%|███████▏        | 9/20 [00:29<00:47,  4.32s/it]\u001b[A\n",
      "apply:  50%|███████▌       | 10/20 [00:36<00:49,  4.99s/it]\u001b[A\n",
      "apply:  55%|████████▎      | 11/20 [00:38<00:36,  4.08s/it]\u001b[A\n",
      "apply:  60%|█████████      | 12/20 [00:46<00:43,  5.45s/it]\u001b[A\n",
      "apply:  65%|█████████▊     | 13/20 [00:48<00:30,  4.35s/it]\u001b[A\n",
      "apply:  70%|██████████▌    | 14/20 [01:00<00:39,  6.65s/it]\u001b[A\n",
      "apply:  75%|███████████▎   | 15/20 [01:12<00:40,  8.08s/it]\u001b[A\n",
      "apply:  80%|████████████   | 16/20 [01:14<00:25,  6.41s/it]\u001b[A\n",
      "apply:  85%|████████████▊  | 17/20 [01:24<00:22,  7.36s/it]\u001b[A\n",
      "apply:  90%|█████████████▌ | 18/20 [01:26<00:11,  5.99s/it]\u001b[A\n",
      "apply:  95%|██████████████▎| 19/20 [01:28<00:04,  4.69s/it]\u001b[A\n",
      "apply: 100%|███████████████| 20/20 [01:29<00:00,  4.48s/it]\u001b[A\n"
     ]
    }
   ],
   "source": [
    "bert_train = np.vstack(x_train.progress_apply(comm_vec))\n",
    "bert_test = np.vstack(x_test.progress_apply(comm_vec))"
   ]
  },
  {
   "cell_type": "markdown",
   "metadata": {},
   "source": [
    "### 4. 训练模型以及评估\n",
    "对如上三种不同的向量表示法，分别训练逻辑回归模型，需要做：\n",
    "- 搭建模型\n",
    "- 训练模型（并做交叉验证）\n",
    "- 输出最好的结果"
   ]
  },
  {
   "cell_type": "markdown",
   "metadata": {},
   "source": [
    "#### 4.1 用word2vec训练模型"
   ]
  },
  {
   "cell_type": "code",
   "execution_count": 39,
   "metadata": {},
   "outputs": [],
   "source": [
    "from sklearn.linear_model import LogisticRegression"
   ]
  },
  {
   "cell_type": "code",
   "execution_count": 54,
   "metadata": {},
   "outputs": [
    {
     "name": "stdout",
     "output_type": "stream",
     "text": [
      "Best Score:0.8875 %\n",
      "Best Parameters:{'C': 10, 'penalty': 'l1', 'solver': 'saga'} %\n"
     ]
    },
    {
     "name": "stderr",
     "output_type": "stream",
     "text": [
      "D:\\Downloads\\Anaconda\\envs\\NLP_class\\lib\\site-packages\\sklearn\\linear_model\\_sag.py:330: ConvergenceWarning: The max_iter was reached which means the coef_ did not converge\n",
      "  \"the coef_ did not converge\", ConvergenceWarning)\n"
     ]
    }
   ],
   "source": [
    "# 利用GriSearcCV找到最优参数组合\n",
    "from sklearn.model_selection import GridSearchCV #网格搜索选出最好的参数组合\n",
    "parameters = {'C': [0.0001, 0.001, 0.01, 0.1, 1, 10, 100],'penalty':['l1','l2'], 'solver':['liblinear','lbfgs','sag','saga'] }\n",
    "LR = LogisticRegression()\n",
    "LR_grid_search = GridSearchCV(estimator = LR,\n",
    "                             param_grid = parameters,\n",
    "                             cv = 5,\n",
    "                             n_jobs = -1)\n",
    "LR_grid_search.fit(word2vec_train,y_train)\n",
    "\n",
    "print('Best Score:{} %'.format(LR_grid_search.best_score_))\n",
    "print('Best Parameters:{} %'.format(LR_grid_search.best_params_))"
   ]
  },
  {
   "cell_type": "code",
   "execution_count": 74,
   "metadata": {},
   "outputs": [
    {
     "name": "stdout",
     "output_type": "stream",
     "text": [
      "word2vec LR test accuracy 0.9\n",
      "Word2vec LR test F1_score 0.7222222222222222\n"
     ]
    }
   ],
   "source": [
    "# 用非最优参数测试\n",
    "LR_best=LogisticRegression(penalty='l1',C=100,solver='liblinear')\n",
    "LR_best.fit(word2vec_train,y_train)\n",
    "word2vec_y_pred=LR_best.predict(word2vec_test)\n",
    "print('word2vec LR test accuracy %s' % metrics.accuracy_score(y_test,word2vec_y_pred))\n",
    "print('Word2vec LR test F1_score %s' % metrics.f1_score(y_test, word2vec_y_pred,average=\"macro\"))"
   ]
  },
  {
   "cell_type": "code",
   "execution_count": 59,
   "metadata": {
    "scrolled": false
   },
   "outputs": [
    {
     "name": "stdout",
     "output_type": "stream",
     "text": [
      "word2vec LR test accuracy 0.8\n",
      "Word2vec LR test F1_score 0.4444444444444444\n"
     ]
    },
    {
     "name": "stderr",
     "output_type": "stream",
     "text": [
      "D:\\Downloads\\Anaconda\\envs\\NLP_class\\lib\\site-packages\\sklearn\\linear_model\\_sag.py:330: ConvergenceWarning: The max_iter was reached which means the coef_ did not converge\n",
      "  \"the coef_ did not converge\", ConvergenceWarning)\n"
     ]
    }
   ],
   "source": [
    "# 用最优参数测试，发现效果居然没上面好\n",
    "LR_best=LogisticRegression(C= 10, penalty='l1', solver= 'saga')\n",
    "LR_best.fit(word2vec_train,y_train)\n",
    "word2vec_y_pred=LR_best.predict(word2vec_test)\n",
    "print('word2vec LR test accuracy %s' % metrics.accuracy_score(y_test,word2vec_y_pred))\n",
    "print('Word2vec LR test F1_score %s' % metrics.f1_score(y_test, word2vec_y_pred,average=\"macro\"))"
   ]
  },
  {
   "cell_type": "markdown",
   "metadata": {},
   "source": [
    "#### 4.2 用bert训练模型"
   ]
  },
  {
   "cell_type": "code",
   "execution_count": 101,
   "metadata": {},
   "outputs": [],
   "source": [
    "bert_train[np.isnan(bert_train)] = 0 #将空值设为0"
   ]
  },
  {
   "cell_type": "code",
   "execution_count": 103,
   "metadata": {},
   "outputs": [
    {
     "name": "stdout",
     "output_type": "stream",
     "text": [
      "Best Score:0.825\n",
      "Best Parameters:{'C': 0.0001, 'penalty': 'l1', 'solver': 'saga'}\n"
     ]
    }
   ],
   "source": [
    "lr = LogisticRegression()\n",
    "\n",
    "parameters = {'C': [0.0001, 0.001, 0.01, 0.1, 1, 10, 100],'penalty':['l1','l2'], 'solver':['liblinear','lbfgs','sag','saga'] }\n",
    "\n",
    "lr_grid_search = GridSearchCV(estimator = lr,\n",
    "                                   param_grid = parameters,\n",
    "                                   cv = 5,\n",
    "                                    n_jobs = -1)\n",
    "\n",
    "lr_gs = lr_grid_search.fit(bert_train, y_train)\n",
    "lr_best_score = lr_grid_search.best_score_\n",
    "lr_bes_param = lr_grid_search.best_params_\n",
    "\n",
    "print('Best Score:{}'.format(lr_best_score))\n",
    "print('Best Parameters:{}'.format(lr_bes_param))"
   ]
  },
  {
   "cell_type": "code",
   "execution_count": 104,
   "metadata": {},
   "outputs": [],
   "source": [
    "bert_test[np.isnan(bert_test)] = 0"
   ]
  },
  {
   "cell_type": "code",
   "execution_count": 105,
   "metadata": {},
   "outputs": [
    {
     "name": "stdout",
     "output_type": "stream",
     "text": [
      "Bert LR test accuracy 0.85\n",
      "Bert LR test F1_score 0.45945945945945943\n"
     ]
    }
   ],
   "source": [
    "lr_best = LogisticRegression(penalty='l1',C=0.0001,solver='saga')\n",
    "lr_best.fit(bert_train, y_train)\n",
    "bert_y_pred = lr_best.predict(bert_test)\n",
    "\n",
    "print('Bert LR test accuracy %s' % metrics.accuracy_score(y_test, bert_y_pred))\n",
    "#逻辑回归模型在测试集上的F1_Score\n",
    "print('Bert LR test F1_score %s' % metrics.f1_score(y_test, bert_y_pred,average=\"macro\"))"
   ]
  },
  {
   "cell_type": "markdown",
   "metadata": {},
   "source": [
    "#### 保存和加载模型"
   ]
  },
  {
   "cell_type": "code",
   "execution_count": 108,
   "metadata": {},
   "outputs": [],
   "source": [
    "#  将bert训练出的模型存储下来，sklearn中的模型一般都用pickle.dump(model,f)来保存\n",
    "import pickle\n",
    "with open('bert_lr_star_predict.model','wb') as f:\n",
    "    pickle.dump(lr_best,f)"
   ]
  },
  {
   "cell_type": "code",
   "execution_count": 109,
   "metadata": {},
   "outputs": [
    {
     "name": "stdout",
     "output_type": "stream",
     "text": [
      "[1 1 1 1 1 1 1 1 1 1 1 1 1 1 1 1 1 1 1 1]\n"
     ]
    }
   ],
   "source": [
    "# 加载模型方法：\n",
    "with open('bert_lr_star_predict.model', 'rb') as f:\n",
    "    lr_best = pickle.load(f)\n",
    "    # 照常引用模型方法：\n",
    "    print(lr_best.predict(bert_test))"
   ]
  },
  {
   "cell_type": "markdown",
   "metadata": {},
   "source": [
    "### 使用bert，并结合朴素贝叶斯模型"
   ]
  },
  {
   "cell_type": "code",
   "execution_count": 106,
   "metadata": {},
   "outputs": [
    {
     "name": "stdout",
     "output_type": "stream",
     "text": [
      "Bert NaiveBayes test accuracy 0.8\n",
      "Bert NaiveBayes test F1_score 0.6875\n"
     ]
    }
   ],
   "source": [
    "from sklearn.naive_bayes import GaussianNB\n",
    "#使用bert特征训练一个朴素贝叶斯模型\n",
    "gnb_bert = GaussianNB().fit(bert_train,y_train)\n",
    "#使用朴素贝叶斯模型得到的测试集上的预测值\n",
    "test_pred_gnb_bert = gnb_bert.predict(bert_test)\n",
    "#朴素贝叶斯模型在测试集上准确率\n",
    "print('Bert NaiveBayes test accuracy %s' % metrics.accuracy_score(y_test, test_pred_gnb_bert))\n",
    "#朴素贝叶斯模型在测试集上的F1_Score\n",
    "print('Bert NaiveBayes test F1_score %s' % metrics.f1_score(y_test, test_pred_gnb_bert,average=\"macro\"))"
   ]
  },
  {
   "cell_type": "markdown",
   "metadata": {},
   "source": [
    "### 5. 实现打分"
   ]
  },
  {
   "cell_type": "code",
   "execution_count": 78,
   "metadata": {},
   "outputs": [
    {
     "name": "stdout",
     "output_type": "stream",
     "text": [
      "复仇者联盟 : 好电影\n",
      "差评差评 : 烂电影\n"
     ]
    }
   ],
   "source": [
    "# 输入评论文本\n",
    "queries=[\"复仇者联盟\",\"差评差评\"]\n",
    "queries_list=[]\n",
    "for query in queries:\n",
    "    words=comment_cut(query)\n",
    "    pure_query=rm_stop_word(words)\n",
    "    query_vec=get_sentence_vec(pure_query)\n",
    "    queries_list.append(query_vec)\n",
    "    \n",
    "query_predict=LR_best.predict(np.array(queries_list))\n",
    "labels=[]\n",
    "for i in query_predict:\n",
    "    if i==1:\n",
    "        labels.append(\"好电影\")\n",
    "    elif i==0:\n",
    "        labels.append(\"烂电影\")\n",
    "for movie in range(len(queries)):\n",
    "    print(queries[movie],\":\",labels[movie])"
   ]
  },
  {
   "cell_type": "code",
   "execution_count": null,
   "metadata": {},
   "outputs": [],
   "source": []
  }
 ],
 "metadata": {
  "kernelspec": {
   "display_name": "Python 3 (ipykernel)",
   "language": "python",
   "name": "python3"
  },
  "language_info": {
   "codemirror_mode": {
    "name": "ipython",
    "version": 3
   },
   "file_extension": ".py",
   "mimetype": "text/x-python",
   "name": "python",
   "nbconvert_exporter": "python",
   "pygments_lexer": "ipython3",
   "version": "3.9.7"
  }
 },
 "nbformat": 4,
 "nbformat_minor": 4
}
